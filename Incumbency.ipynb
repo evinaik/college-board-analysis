{
 "cells": [
  {
   "cell_type": "markdown",
   "metadata": {},
   "source": [
    "# Analyzing the Incumbency Advantage"
   ]
  },
  {
   "cell_type": "markdown",
   "metadata": {},
   "source": [
    "## Ekansh Vinaik, Matthew Chung"
   ]
  },
  {
   "cell_type": "markdown",
   "metadata": {},
   "source": [
    "### Getting Started"
   ]
  },
  {
   "cell_type": "markdown",
   "metadata": {},
   "source": [
    "Oftentimes in classes such as Government and Politics or U.S. History, students will learn about incumbency and how incumbent candidates are at great advantages over those who are new to the political scene in the area. The argument stems from increased funding and access to voters, along with a name brand recognition that only strengthens over time. In this notebook, we'll visualize the incumbency advantage and then make predictions using some machine learning algorithms on possible independent variables that we'll uncover in some future visualizations and analysis. The dataset we'll be using is the [State Election Results 1971-2012 dataset from Kaggle](https://www.kaggle.com/sohier/state-election-results-1971-2012). We'll start by importing some necessary modules."
   ]
  },
  {
   "cell_type": "code",
   "execution_count": 17,
   "metadata": {
    "collapsed": true,
    "scrolled": false
   },
   "outputs": [],
   "source": [
    "import math\n",
    "import pandas as pd\n",
    "import numpy as np\n",
    "import matplotlib.pyplot as plt\n",
    "import seaborn as sns\n",
    "import statsmodels.formula.api as sm\n",
    "from statsmodels.stats.proportion import proportions_ztest"
   ]
  },
  {
   "cell_type": "markdown",
   "metadata": {},
   "source": [
    "Let's load in the dataset and see how our data is formatted. We're skipping the **data collection** phase but we should be prepared to perform some **data wrangling**. You'll see below that we already start to do so by renaming the columns and by providing the types of each column to prevent Pandas from interpreting the wrong types (this is not always necessary, however our data has an issue with being interpreted automatically)."
   ]
  },
  {
   "cell_type": "code",
   "execution_count": 10,
   "metadata": {
    "scrolled": false
   },
   "outputs": [
    {
     "data": {
      "text/html": [
       "<div>\n",
       "<table border=\"1\" class=\"dataframe\">\n",
       "  <thead>\n",
       "    <tr style=\"text-align: right;\">\n",
       "      <th></th>\n",
       "      <th>state</th>\n",
       "      <th>district</th>\n",
       "      <th>year</th>\n",
       "      <th>party</th>\n",
       "      <th>incumbent</th>\n",
       "      <th>dem</th>\n",
       "      <th>gop</th>\n",
       "      <th>other</th>\n",
       "    </tr>\n",
       "  </thead>\n",
       "  <tbody>\n",
       "    <tr>\n",
       "      <th>0</th>\n",
       "      <td>AK</td>\n",
       "      <td>1</td>\n",
       "      <td>1992</td>\n",
       "      <td>D</td>\n",
       "      <td>0</td>\n",
       "      <td>3019</td>\n",
       "      <td>3002</td>\n",
       "      <td>0</td>\n",
       "    </tr>\n",
       "    <tr>\n",
       "      <th>1</th>\n",
       "      <td>AK</td>\n",
       "      <td>2</td>\n",
       "      <td>1992</td>\n",
       "      <td>D</td>\n",
       "      <td>1</td>\n",
       "      <td>4704</td>\n",
       "      <td>2169</td>\n",
       "      <td>0</td>\n",
       "    </tr>\n",
       "    <tr>\n",
       "      <th>2</th>\n",
       "      <td>AK</td>\n",
       "      <td>3</td>\n",
       "      <td>1992</td>\n",
       "      <td>D</td>\n",
       "      <td>1</td>\n",
       "      <td>5210</td>\n",
       "      <td>2233</td>\n",
       "      <td>0</td>\n",
       "    </tr>\n",
       "    <tr>\n",
       "      <th>3</th>\n",
       "      <td>AK</td>\n",
       "      <td>4</td>\n",
       "      <td>1992</td>\n",
       "      <td>R</td>\n",
       "      <td>1</td>\n",
       "      <td>1754</td>\n",
       "      <td>4538</td>\n",
       "      <td>294</td>\n",
       "    </tr>\n",
       "    <tr>\n",
       "      <th>4</th>\n",
       "      <td>AK</td>\n",
       "      <td>5</td>\n",
       "      <td>1992</td>\n",
       "      <td>D</td>\n",
       "      <td>1</td>\n",
       "      <td>3953</td>\n",
       "      <td>0</td>\n",
       "      <td>1153</td>\n",
       "    </tr>\n",
       "  </tbody>\n",
       "</table>\n",
       "</div>"
      ],
      "text/plain": [
       "  state district  year party  incumbent   dem   gop  other\n",
       "0    AK        1  1992     D          0  3019  3002      0\n",
       "1    AK        2  1992     D          1  4704  2169      0\n",
       "2    AK        3  1992     D          1  5210  2233      0\n",
       "3    AK        4  1992     R          1  1754  4538    294\n",
       "4    AK        5  1992     D          1  3953     0   1153"
      ]
     },
     "execution_count": 10,
     "metadata": {},
     "output_type": "execute_result"
    }
   ],
   "source": [
    "df = pd.read_csv('elections/states.csv', dtype={\n",
    "    'state': str,\n",
    "    'district': str,\n",
    "    'year': int,\n",
    "    'party': str,\n",
    "    'incumbent': int,\n",
    "    'dem': int,\n",
    "    'gop': int,\n",
    "    'other': int,\n",
    "}, names=['state', 'district', 'year', 'party', 'incumbent', 'dem', 'gop', 'other'], skiprows=1)\n",
    "\n",
    "df.head()"
   ]
  },
  {
   "cell_type": "markdown",
   "metadata": {},
   "source": [
    "### Data Wrangling"
   ]
  },
  {
   "cell_type": "markdown",
   "metadata": {},
   "source": [
    "Having loaded in the dataset, we immediately notice a few things. First, as you can see in the table, incumbency is measured as 1 or 0 instead of True or False. Let's fix that to make it clearer for us, though our packages will not have a problem with either representation."
   ]
  },
  {
   "cell_type": "code",
   "execution_count": 11,
   "metadata": {
    "collapsed": true,
    "scrolled": true
   },
   "outputs": [],
   "source": [
    "df['incumbent'] = df['incumbent'].apply(lambda x: x == 1)"
   ]
  },
  {
   "cell_type": "markdown",
   "metadata": {},
   "source": [
    "Second, though it is not in the table above, there are values in party that are not D or R. We'll treat these as extraneous as we're mostly focused on incumbency with political parties as a second thought."
   ]
  },
  {
   "cell_type": "code",
   "execution_count": 12,
   "metadata": {
    "collapsed": true,
    "scrolled": true
   },
   "outputs": [],
   "source": [
    "df = df[(df.party == 'D') | (df.party == 'R')]"
   ]
  },
  {
   "cell_type": "markdown",
   "metadata": {},
   "source": [
    "Finally, we'll drop the other column as political party is a forethought, and then we'll sum the Democratic and GOP voter counts into a total column."
   ]
  },
  {
   "cell_type": "code",
   "execution_count": 13,
   "metadata": {
    "collapsed": true,
    "scrolled": true
   },
   "outputs": [],
   "source": [
    "df = df.drop('other', axis=1).dropna()\n",
    "df['total'] = df[['dem', 'gop']].sum(axis=1)"
   ]
  },
  {
   "cell_type": "markdown",
   "metadata": {},
   "source": [
    "Let's view our dataframe now to see if it looks very different."
   ]
  },
  {
   "cell_type": "code",
   "execution_count": 14,
   "metadata": {
    "scrolled": false
   },
   "outputs": [
    {
     "data": {
      "text/html": [
       "<div>\n",
       "<table border=\"1\" class=\"dataframe\">\n",
       "  <thead>\n",
       "    <tr style=\"text-align: right;\">\n",
       "      <th></th>\n",
       "      <th>state</th>\n",
       "      <th>district</th>\n",
       "      <th>year</th>\n",
       "      <th>party</th>\n",
       "      <th>incumbent</th>\n",
       "      <th>dem</th>\n",
       "      <th>gop</th>\n",
       "      <th>total</th>\n",
       "    </tr>\n",
       "  </thead>\n",
       "  <tbody>\n",
       "    <tr>\n",
       "      <th>0</th>\n",
       "      <td>AK</td>\n",
       "      <td>1</td>\n",
       "      <td>1992</td>\n",
       "      <td>D</td>\n",
       "      <td>False</td>\n",
       "      <td>3019</td>\n",
       "      <td>3002</td>\n",
       "      <td>6021</td>\n",
       "    </tr>\n",
       "    <tr>\n",
       "      <th>1</th>\n",
       "      <td>AK</td>\n",
       "      <td>2</td>\n",
       "      <td>1992</td>\n",
       "      <td>D</td>\n",
       "      <td>True</td>\n",
       "      <td>4704</td>\n",
       "      <td>2169</td>\n",
       "      <td>6873</td>\n",
       "    </tr>\n",
       "    <tr>\n",
       "      <th>2</th>\n",
       "      <td>AK</td>\n",
       "      <td>3</td>\n",
       "      <td>1992</td>\n",
       "      <td>D</td>\n",
       "      <td>True</td>\n",
       "      <td>5210</td>\n",
       "      <td>2233</td>\n",
       "      <td>7443</td>\n",
       "    </tr>\n",
       "    <tr>\n",
       "      <th>3</th>\n",
       "      <td>AK</td>\n",
       "      <td>4</td>\n",
       "      <td>1992</td>\n",
       "      <td>R</td>\n",
       "      <td>True</td>\n",
       "      <td>1754</td>\n",
       "      <td>4538</td>\n",
       "      <td>6292</td>\n",
       "    </tr>\n",
       "    <tr>\n",
       "      <th>4</th>\n",
       "      <td>AK</td>\n",
       "      <td>5</td>\n",
       "      <td>1992</td>\n",
       "      <td>D</td>\n",
       "      <td>True</td>\n",
       "      <td>3953</td>\n",
       "      <td>0</td>\n",
       "      <td>3953</td>\n",
       "    </tr>\n",
       "  </tbody>\n",
       "</table>\n",
       "</div>"
      ],
      "text/plain": [
       "  state district  year party incumbent   dem   gop  total\n",
       "0    AK        1  1992     D     False  3019  3002   6021\n",
       "1    AK        2  1992     D      True  4704  2169   6873\n",
       "2    AK        3  1992     D      True  5210  2233   7443\n",
       "3    AK        4  1992     R      True  1754  4538   6292\n",
       "4    AK        5  1992     D      True  3953     0   3953"
      ]
     },
     "execution_count": 14,
     "metadata": {},
     "output_type": "execute_result"
    }
   ],
   "source": [
    "df.head()"
   ]
  },
  {
   "cell_type": "markdown",
   "metadata": {},
   "source": [
    "In this next step, we'll predict that we won't be looking at raw counts for some step of this process, and so we'll create a new dataframe that holds the ratios of Democratic to GOP voter counts by year. We'll group by year and sum each column, dividing it by the total, to find each year's ratio."
   ]
  },
  {
   "cell_type": "code",
   "execution_count": 16,
   "metadata": {
    "scrolled": false
   },
   "outputs": [
    {
     "data": {
      "text/html": [
       "<div>\n",
       "<table border=\"1\" class=\"dataframe\">\n",
       "  <thead>\n",
       "    <tr style=\"text-align: right;\">\n",
       "      <th></th>\n",
       "      <th>year</th>\n",
       "      <th>dem</th>\n",
       "      <th>gop</th>\n",
       "    </tr>\n",
       "  </thead>\n",
       "  <tbody>\n",
       "    <tr>\n",
       "      <th>0</th>\n",
       "      <td>1971</td>\n",
       "      <td>0.583459</td>\n",
       "      <td>0.416541</td>\n",
       "    </tr>\n",
       "    <tr>\n",
       "      <th>1</th>\n",
       "      <td>1972</td>\n",
       "      <td>0.509436</td>\n",
       "      <td>0.490564</td>\n",
       "    </tr>\n",
       "    <tr>\n",
       "      <th>2</th>\n",
       "      <td>1973</td>\n",
       "      <td>0.660898</td>\n",
       "      <td>0.339102</td>\n",
       "    </tr>\n",
       "    <tr>\n",
       "      <th>3</th>\n",
       "      <td>1974</td>\n",
       "      <td>0.574307</td>\n",
       "      <td>0.425693</td>\n",
       "    </tr>\n",
       "    <tr>\n",
       "      <th>4</th>\n",
       "      <td>1975</td>\n",
       "      <td>0.674162</td>\n",
       "      <td>0.325838</td>\n",
       "    </tr>\n",
       "  </tbody>\n",
       "</table>\n",
       "</div>"
      ],
      "text/plain": [
       "   year       dem       gop\n",
       "0  1971  0.583459  0.416541\n",
       "1  1972  0.509436  0.490564\n",
       "2  1973  0.660898  0.339102\n",
       "3  1974  0.574307  0.425693\n",
       "4  1975  0.674162  0.325838"
      ]
     },
     "execution_count": 16,
     "metadata": {},
     "output_type": "execute_result"
    }
   ],
   "source": [
    "years = df.groupby(['year'])\n",
    "ratios = pd.DataFrame()\n",
    "ratios['dem'] = years.sum()['dem'] / years.sum()['total']\n",
    "ratios['gop'] = years.sum()['gop'] / years.sum()['total']\n",
    "ratios = ratios.reset_index()\n",
    "ratios.head()"
   ]
  },
  {
   "cell_type": "markdown",
   "metadata": {},
   "source": [
    "### Exploratory Data Analysis (EDA) / Data Visualization"
   ]
  },
  {
   "cell_type": "markdown",
   "metadata": {},
   "source": [
    "The next step in the data analysis process is to perform some exploratory data analysis (EDA) to discover and unearth relationships or phenomena that are not always immediately obvious. Our dataset provides us with demographic information by political party, and so we'll first look to see if there are extraneous patterns within political party voting ratios that we must consider before we look at incumbency visualizations."
   ]
  },
  {
   "cell_type": "markdown",
   "metadata": {},
   "source": [
    "Below, we create two plots. The first only shows 4 year election cycles, and the second shows 2 year election cycles. These coincide with presidential and state elections, so we can see patterns when the voting population is pushed to vote."
   ]
  },
  {
   "cell_type": "code",
   "execution_count": 6,
   "metadata": {
    "scrolled": false
   },
   "outputs": [
    {
     "data": {
      "image/png": "[encoded data removed]",
      "text/plain": [
       "<matplotlib.figure.Figure at 0x7fb56ef4a828>"
      ]
     },
     "metadata": {},
     "output_type": "display_data"
    }
   ],
   "source": [
    "fig, axes = plt.subplots(nrows=1, ncols=2, figsize=(20, 5))\n",
    "\n",
    "ratios[ratios.year % 4 == 0].plot.bar(\n",
    "    x='year', y='dem', ax=axes[0], color='red', position=1, width=.25)\n",
    "ratios[ratios.year % 4 == 0].plot.bar(\n",
    "    x='year', y='gop', ax=axes[0], color='blue', title='4 Year Election Cycles', position=0, width=.25)\n",
    "ratios[ratios.year % 4 == 2].plot.bar(\n",
    "    x='year', y='dem', ax=axes[1], color='red', position=1, width=.25)\n",
    "ratios[ratios.year % 4 == 2].plot.bar(\n",
    "    x='year', y='gop', ax=axes[1], color='blue', title='2 Year Election Cycles', position=0, width=.25)\n",
    "plt.show()"
   ]
  },
  {
   "cell_type": "markdown",
   "metadata": {},
   "source": [
    "Our visualizations show some interesting insights into the data, however nothing is too extreme to consider as far as incumbency goes, at least as far as the visual representations go. We can see that the elections after Watergate had far higher turnouts of Democrats than Republicans, however over time this evens out to a more equal / less uneven ratio. Now, let's take a look at a chart of incumbent win ratios. First, we need to create a dataframe that actually holds these ratios, and thankfully Pandas has some builtin functions that will make this very simple for us."
   ]
  },
  {
   "cell_type": "code",
   "execution_count": null,
   "metadata": {
    "collapsed": true,
    "scrolled": true
   },
   "outputs": [],
   "source": [
    "inc = df.groupby('year').incumbent.value_counts(normalize=True).to_frame()\n",
    "inc.columns = ['ratio']\n",
    "inc = inc.reset_index()\n",
    "inc.head()"
   ]
  },
  {
   "cell_type": "markdown",
   "metadata": {},
   "source": [
    "Next, let's plot these ratios over time to see the how the incumbency advantage has progressed over time."
   ]
  },
  {
   "cell_type": "code",
   "execution_count": 8,
   "metadata": {
    "scrolled": true
   },
   "outputs": [
    {
     "data": {
      "image/png": "[encoded data removed]",
      "text/plain": [
       "<matplotlib.figure.Figure at 0x7fb56edbf438>"
      ]
     },
     "metadata": {},
     "output_type": "display_data"
    }
   ],
   "source": [
    "inc[inc.incumbent].plot.line(x='year', y='ratio', color='purple', title='Ratio of Incumbent Wins')\n",
    "plt.show()"
   ]
  },
  {
   "cell_type": "markdown",
   "metadata": {},
   "source": [
    "Looking at our chart above, we can see a strange drop between 1980-1985. However, aside from that year, the incumbent win ratio is clearly above 60% for nearly the entire range of years. Before we move on to some machine learning algorithms, let's verify our claim that the incumbent advantage is statistically significant. We'll perform a proportion z test with $ \\alpha = .05 $ to determine if the incumbent ratio is statistically high."
   ]
  },
  {
   "cell_type": "code",
   "execution_count": 41,
   "metadata": {
    "scrolled": true
   },
   "outputs": [
    {
     "data": {
      "text/plain": [
       "'Z-Score'"
      ]
     },
     "metadata": {},
     "output_type": "display_data"
    },
    {
     "data": {
      "text/plain": [
       "1325.4135573587923"
      ]
     },
     "metadata": {},
     "output_type": "display_data"
    },
    {
     "data": {
      "text/plain": [
       "'P-Value'"
      ]
     },
     "metadata": {},
     "output_type": "display_data"
    },
    {
     "data": {
      "text/plain": [
       "0.0"
      ]
     },
     "metadata": {},
     "output_type": "display_data"
    }
   ],
   "source": [
    "count = df[df.incumbent].size\n",
    "total = df.size\n",
    "zscore, pval = proportions_ztest(count, total, 0)\n",
    "\n",
    "display('Z-Score', zscore, 'P-Value', pval)"
   ]
  },
  {
   "cell_type": "markdown",
   "metadata": {},
   "source": [
    "### Making Predictions with Machine Learning"
   ]
  },
  {
   "cell_type": "markdown",
   "metadata": {},
   "source": [
    "Let's see what we can predict with some machine learning algorithms. We'll assume that our independent variables will be the state and year, and we'll determine what advantage an incumbent candidate might have. We can do this in a number of ways. First, let's start by performing some linear regression to see what results we can get out of the most simple model possible."
   ]
  },
  {
   "cell_type": "code",
   "execution_count": 47,
   "metadata": {},
   "outputs": [
    {
     "data": {
      "text/html": [
       "<div>\n",
       "<table border=\"1\" class=\"dataframe\">\n",
       "  <thead>\n",
       "    <tr style=\"text-align: right;\">\n",
       "      <th></th>\n",
       "      <th>0</th>\n",
       "      <th>1</th>\n",
       "    </tr>\n",
       "  </thead>\n",
       "  <tbody>\n",
       "    <tr>\n",
       "      <th>Intercept</th>\n",
       "      <td>2.164159</td>\n",
       "      <td>-1.164159</td>\n",
       "    </tr>\n",
       "    <tr>\n",
       "      <th>state[T.AL]</th>\n",
       "      <td>0.082895</td>\n",
       "      <td>-0.082895</td>\n",
       "    </tr>\n",
       "    <tr>\n",
       "      <th>state[T.AR]</th>\n",
       "      <td>0.001588</td>\n",
       "      <td>-0.001588</td>\n",
       "    </tr>\n",
       "    <tr>\n",
       "      <th>state[T.CA]</th>\n",
       "      <td>0.019500</td>\n",
       "      <td>-0.019500</td>\n",
       "    </tr>\n",
       "    <tr>\n",
       "      <th>state[T.CO]</th>\n",
       "      <td>0.059159</td>\n",
       "      <td>-0.059159</td>\n",
       "    </tr>\n",
       "  </tbody>\n",
       "</table>\n",
       "</div>"
      ],
      "text/plain": [
       "                    0         1\n",
       "Intercept    2.164159 -1.164159\n",
       "state[T.AL]  0.082895 -0.082895\n",
       "state[T.AR]  0.001588 -0.001588\n",
       "state[T.CA]  0.019500 -0.019500\n",
       "state[T.CO]  0.059159 -0.059159"
      ]
     },
     "execution_count": 47,
     "metadata": {},
     "output_type": "execute_result"
    }
   ],
   "source": [
    "sm.ols(formula='incumbent ~ year + state', data=df).fit().params.head()"
   ]
  },
  {
   "cell_type": "markdown",
   "metadata": {},
   "source": [
    "Immediately, we notice a problem. The problem is binary classification in nature, and a linear regression model is inherently used for regression instead of classification. Thankfully, statsmodel converted our incumbency status into a numerical 0 and 1, however it does not make much sense to look at the model from this viewpoint. Instead, we can do one of two things: we can change our regression outcome to give us a ratio or we can move to a classification algorithm. Why not both?"
   ]
  },
  {
   "cell_type": "code",
   "execution_count": 52,
   "metadata": {},
   "outputs": [
    {
     "data": {
      "text/html": [
       "<table class=\"simpletable\">\n",
       "<caption>OLS Regression Results</caption>\n",
       "<tr>\n",
       "  <th>Dep. Variable:</th>          <td>ratio</td>      <th>  R-squared:         </th> <td>   0.025</td>\n",
       "</tr>\n",
       "<tr>\n",
       "  <th>Model:</th>                   <td>OLS</td>       <th>  Adj. R-squared:    </th> <td>   0.000</td>\n",
       "</tr>\n",
       "<tr>\n",
       "  <th>Method:</th>             <td>Least Squares</td>  <th>  F-statistic:       </th> <td>   1.013</td>\n",
       "</tr>\n",
       "<tr>\n",
       "  <th>Date:</th>             <td>Sat, 16 Dec 2017</td> <th>  Prob (F-statistic):</th>  <td> 0.320</td> \n",
       "</tr>\n",
       "<tr>\n",
       "  <th>Time:</th>                 <td>17:41:10</td>     <th>  Log-Likelihood:    </th> <td>  38.847</td>\n",
       "</tr>\n",
       "<tr>\n",
       "  <th>No. Observations:</th>      <td>    42</td>      <th>  AIC:               </th> <td>  -73.69</td>\n",
       "</tr>\n",
       "<tr>\n",
       "  <th>Df Residuals:</th>          <td>    40</td>      <th>  BIC:               </th> <td>  -70.22</td>\n",
       "</tr>\n",
       "<tr>\n",
       "  <th>Df Model:</th>              <td>     1</td>      <th>                     </th>     <td> </td>   \n",
       "</tr>\n",
       "<tr>\n",
       "  <th>Covariance Type:</th>      <td>nonrobust</td>    <th>                     </th>     <td> </td>   \n",
       "</tr>\n",
       "</table>\n",
       "<table class=\"simpletable\">\n",
       "<tr>\n",
       "      <td></td>         <th>coef</th>     <th>std err</th>      <th>t</th>      <th>P>|t|</th>  <th>[0.025</th>    <th>0.975]</th>  \n",
       "</tr>\n",
       "<tr>\n",
       "  <th>Intercept</th> <td>   -1.8483</td> <td>    2.493</td> <td>   -0.741</td> <td> 0.463</td> <td>   -6.886</td> <td>    3.190</td>\n",
       "</tr>\n",
       "<tr>\n",
       "  <th>year</th>      <td>    0.0013</td> <td>    0.001</td> <td>    1.006</td> <td> 0.320</td> <td>   -0.001</td> <td>    0.004</td>\n",
       "</tr>\n",
       "</table>\n",
       "<table class=\"simpletable\">\n",
       "<tr>\n",
       "  <th>Omnibus:</th>       <td>28.174</td> <th>  Durbin-Watson:     </th> <td>   1.885</td>\n",
       "</tr>\n",
       "<tr>\n",
       "  <th>Prob(Omnibus):</th> <td> 0.000</td> <th>  Jarque-Bera (JB):  </th> <td>  77.717</td>\n",
       "</tr>\n",
       "<tr>\n",
       "  <th>Skew:</th>          <td>-1.588</td> <th>  Prob(JB):          </th> <td>1.33e-17</td>\n",
       "</tr>\n",
       "<tr>\n",
       "  <th>Kurtosis:</th>      <td> 8.859</td> <th>  Cond. No.          </th> <td>3.27e+05</td>\n",
       "</tr>\n",
       "</table>"
      ],
      "text/plain": [
       "<class 'statsmodels.iolib.summary.Summary'>\n",
       "\"\"\"\n",
       "                            OLS Regression Results                            \n",
       "==============================================================================\n",
       "Dep. Variable:                  ratio   R-squared:                       0.025\n",
       "Model:                            OLS   Adj. R-squared:                  0.000\n",
       "Method:                 Least Squares   F-statistic:                     1.013\n",
       "Date:                Sat, 16 Dec 2017   Prob (F-statistic):              0.320\n",
       "Time:                        17:41:10   Log-Likelihood:                 38.847\n",
       "No. Observations:                  42   AIC:                            -73.69\n",
       "Df Residuals:                      40   BIC:                            -70.22\n",
       "Df Model:                           1                                         \n",
       "Covariance Type:            nonrobust                                         \n",
       "==============================================================================\n",
       "                 coef    std err          t      P>|t|      [0.025      0.975]\n",
       "------------------------------------------------------------------------------\n",
       "Intercept     -1.8483      2.493     -0.741      0.463      -6.886       3.190\n",
       "year           0.0013      0.001      1.006      0.320      -0.001       0.004\n",
       "==============================================================================\n",
       "Omnibus:                       28.174   Durbin-Watson:                   1.885\n",
       "Prob(Omnibus):                  0.000   Jarque-Bera (JB):               77.717\n",
       "Skew:                          -1.588   Prob(JB):                     1.33e-17\n",
       "Kurtosis:                       8.859   Cond. No.                     3.27e+05\n",
       "==============================================================================\n",
       "\n",
       "Warnings:\n",
       "[1] Standard Errors assume that the covariance matrix of the errors is correctly specified.\n",
       "[2] The condition number is large, 3.27e+05. This might indicate that there are\n",
       "strong multicollinearity or other numerical problems.\n",
       "\"\"\""
      ]
     },
     "execution_count": 52,
     "metadata": {},
     "output_type": "execute_result"
    }
   ],
   "source": [
    "sm.ols(formula='ratio ~ year', data=inc[inc.incumbent]).fit().summary()"
   ]
  },
  {
   "cell_type": "markdown",
   "metadata": {},
   "source": [
    "Above, we see that the coefficient for the year as far as the incumbency ratio is very small. Additionally, the P value is far above our classic $ \\alpha > 0.5 $, so we can actually exclude year from our analysis and only focus on a state. Now, let's look at how we can classify each state into an incumbent preference state or not. There does exist a possibility that every single state will give an advantage to incumbents, so we should be careful with our classification. To be clear, this is not a *machine learning* classification problem: we'll loop through each state and individually print out the ones that aren't advantageous to incumbents, assuming that these even exist."
   ]
  },
  {
   "cell_type": "code",
   "execution_count": 58,
   "metadata": {},
   "outputs": [
    {
     "data": {
      "text/plain": [
       "[]"
      ]
     },
     "execution_count": 58,
     "metadata": {},
     "output_type": "execute_result"
    }
   ],
   "source": [
    "alpha = .05\n",
    "states = []\n",
    "\n",
    "for state in df.state.unique():\n",
    "    temp = df[df.state == state].drop(['state', 'district'], axis=1)\n",
    "    count = temp[temp.incumbent].size\n",
    "    total = temp.size\n",
    "    zscore, pval = proportions_ztest(count, total, 0)\n",
    "\n",
    "    if pval > alpha:\n",
    "        states.append(state)\n",
    "\n",
    "states"
   ]
  },
  {
   "cell_type": "markdown",
   "metadata": {},
   "source": [
    "As we predicted, there are literally no states that do not provide an incumbency advantage. "
   ]
  },
  {
   "cell_type": "markdown",
   "metadata": {},
   "source": [
    "### Conclusion / Policy Decision"
   ]
  },
  {
   "cell_type": "code",
   "execution_count": null,
   "metadata": {
    "collapsed": true,
    "scrolled": true
   },
   "outputs": [],
   "source": []
  }
 ],
 "metadata": {
  "kernelspec": {
   "display_name": "Python 3",
   "language": "python",
   "name": "python3"
  },
  "language_info": {
   "codemirror_mode": {
    "name": "ipython",
    "version": 3
   },
   "file_extension": ".py",
   "mimetype": "text/x-python",
   "name": "python",
   "nbconvert_exporter": "python",
   "pygments_lexer": "ipython3",
   "version": "3.6.2"
  }
 },
 "nbformat": 4,
 "nbformat_minor": 2
}
