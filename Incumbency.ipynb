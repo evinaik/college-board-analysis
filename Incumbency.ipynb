{
 "cells": [
  {
   "cell_type": "markdown",
   "metadata": {},
   "source": [
    "# Analyzing the Incumbency Advantage"
   ]
  },
  {
   "cell_type": "markdown",
   "metadata": {},
   "source": [
    "## Ekansh Vinaik, Matthew Chung"
   ]
  },
  {
   "cell_type": "markdown",
   "metadata": {},
   "source": [
    "### Getting Started"
   ]
  },
  {
   "cell_type": "markdown",
   "metadata": {},
   "source": [
    "Oftentimes in classes such as Government and Politics or U.S. History, students will learn about incumbency and how incumbent candidates are at great advantages over those who are new to the political scene in the area. The argument stems from increased funding and access to voters, along with a name brand recognition that only strengthens over time. In this notebook, we'll visualize the incumbency advantage and then make predictions using some machine learning algorithms on possible independent variables that we'll uncover in some future visualizations and analysis. The dataset we'll be using is the [State Election Results 1971-2012 dataset from Kaggle](https://www.kaggle.com/sohier/state-election-results-1971-2012). We'll start by importing some necessary modules."
   ]
  },
  {
   "cell_type": "code",
   "execution_count": 1,
   "metadata": {
    "collapsed": true,
    "scrolled": true
   },
   "outputs": [],
   "source": [
    "import math\n",
    "import pandas as pd\n",
    "import numpy as np\n",
    "import matplotlib.pyplot as plt\n",
    "import seaborn as sns\n",
    "import statsmodels.formula.api as sm\n",
    "from statsmodels.stats.proportion import proportions_ztest\n",
    "from sklearn import svm\n",
    "from sklearn.model_selection import train_test_split\n",
    "from sklearn.model_selection import cross_val_score"
   ]
  },
  {
   "cell_type": "markdown",
   "metadata": {},
   "source": [
    "Let's load in the dataset and see how our data is formatted. We're skipping the **data collection** phase but we should be prepared to perform some **data wrangling**. You'll see below that we already start to do so by renaming the columns and by providing the types of each column to prevent Pandas from interpreting the wrong types (this is not always necessary, however our data has an issue with being interpreted automatically)."
   ]
  },
  {
   "cell_type": "code",
   "execution_count": 2,
   "metadata": {
    "scrolled": true
   },
   "outputs": [
    {
     "data": {
      "text/html": [
       "<div>\n",
       "<table border=\"1\" class=\"dataframe\">\n",
       "  <thead>\n",
       "    <tr style=\"text-align: right;\">\n",
       "      <th></th>\n",
       "      <th>state</th>\n",
       "      <th>district</th>\n",
       "      <th>year</th>\n",
       "      <th>party</th>\n",
       "      <th>incumbent</th>\n",
       "      <th>dem</th>\n",
       "      <th>gop</th>\n",
       "      <th>other</th>\n",
       "    </tr>\n",
       "  </thead>\n",
       "  <tbody>\n",
       "    <tr>\n",
       "      <th>0</th>\n",
       "      <td>AK</td>\n",
       "      <td>1</td>\n",
       "      <td>1992</td>\n",
       "      <td>D</td>\n",
       "      <td>0</td>\n",
       "      <td>3019</td>\n",
       "      <td>3002</td>\n",
       "      <td>0</td>\n",
       "    </tr>\n",
       "    <tr>\n",
       "      <th>1</th>\n",
       "      <td>AK</td>\n",
       "      <td>2</td>\n",
       "      <td>1992</td>\n",
       "      <td>D</td>\n",
       "      <td>1</td>\n",
       "      <td>4704</td>\n",
       "      <td>2169</td>\n",
       "      <td>0</td>\n",
       "    </tr>\n",
       "    <tr>\n",
       "      <th>2</th>\n",
       "      <td>AK</td>\n",
       "      <td>3</td>\n",
       "      <td>1992</td>\n",
       "      <td>D</td>\n",
       "      <td>1</td>\n",
       "      <td>5210</td>\n",
       "      <td>2233</td>\n",
       "      <td>0</td>\n",
       "    </tr>\n",
       "    <tr>\n",
       "      <th>3</th>\n",
       "      <td>AK</td>\n",
       "      <td>4</td>\n",
       "      <td>1992</td>\n",
       "      <td>R</td>\n",
       "      <td>1</td>\n",
       "      <td>1754</td>\n",
       "      <td>4538</td>\n",
       "      <td>294</td>\n",
       "    </tr>\n",
       "    <tr>\n",
       "      <th>4</th>\n",
       "      <td>AK</td>\n",
       "      <td>5</td>\n",
       "      <td>1992</td>\n",
       "      <td>D</td>\n",
       "      <td>1</td>\n",
       "      <td>3953</td>\n",
       "      <td>0</td>\n",
       "      <td>1153</td>\n",
       "    </tr>\n",
       "  </tbody>\n",
       "</table>\n",
       "</div>"
      ],
      "text/plain": [
       "  state district  year party  incumbent   dem   gop  other\n",
       "0    AK        1  1992     D          0  3019  3002      0\n",
       "1    AK        2  1992     D          1  4704  2169      0\n",
       "2    AK        3  1992     D          1  5210  2233      0\n",
       "3    AK        4  1992     R          1  1754  4538    294\n",
       "4    AK        5  1992     D          1  3953     0   1153"
      ]
     },
     "execution_count": 2,
     "metadata": {},
     "output_type": "execute_result"
    }
   ],
   "source": [
    "df = pd.read_csv('elections/states.csv', dtype={\n",
    "    'state': str,\n",
    "    'district': str,\n",
    "    'year': int,\n",
    "    'party': str,\n",
    "    'incumbent': int,\n",
    "    'dem': int,\n",
    "    'gop': int,\n",
    "    'other': int,\n",
    "}, names=['state', 'district', 'year', 'party', 'incumbent', 'dem', 'gop', 'other'], skiprows=1)\n",
    "\n",
    "df.head()"
   ]
  },
  {
   "cell_type": "markdown",
   "metadata": {},
   "source": [
    "### Data Wrangling"
   ]
  },
  {
   "cell_type": "markdown",
   "metadata": {},
   "source": [
    "Having loaded in the dataset, we immediately notice a few things. First, as you can see in the table, incumbency is measured as 1 or 0 instead of True or False. Let's fix that to make it clearer for us, though our packages will not have a problem with either representation."
   ]
  },
  {
   "cell_type": "code",
   "execution_count": 3,
   "metadata": {
    "collapsed": true,
    "scrolled": false
   },
   "outputs": [],
   "source": [
    "df['incumbent'] = df['incumbent'].apply(lambda x: x == 1)"
   ]
  },
  {
   "cell_type": "markdown",
   "metadata": {},
   "source": [
    "Second, though it is not in the table above, there are values in party that are not D or R. We'll treat these as extraneous as we're mostly focused on incumbency with political parties as a second thought."
   ]
  },
  {
   "cell_type": "code",
   "execution_count": 4,
   "metadata": {
    "collapsed": true,
    "scrolled": false
   },
   "outputs": [],
   "source": [
    "df = df[(df.party == 'D') | (df.party == 'R')]"
   ]
  },
  {
   "cell_type": "markdown",
   "metadata": {},
   "source": [
    "Finally, we'll drop the other column as political party is a forethought, and then we'll sum the Democratic and GOP voter counts into a total column."
   ]
  },
  {
   "cell_type": "code",
   "execution_count": 5,
   "metadata": {
    "collapsed": true,
    "scrolled": false
   },
   "outputs": [],
   "source": [
    "df = df.drop('other', axis=1).dropna()\n",
    "df['total'] = df[['dem', 'gop']].sum(axis=1)"
   ]
  },
  {
   "cell_type": "markdown",
   "metadata": {},
   "source": [
    "Let's view our dataframe now to see if it looks very different."
   ]
  },
  {
   "cell_type": "code",
   "execution_count": 6,
   "metadata": {
    "scrolled": true
   },
   "outputs": [
    {
     "data": {
      "text/html": [
       "<div>\n",
       "<table border=\"1\" class=\"dataframe\">\n",
       "  <thead>\n",
       "    <tr style=\"text-align: right;\">\n",
       "      <th></th>\n",
       "      <th>state</th>\n",
       "      <th>district</th>\n",
       "      <th>year</th>\n",
       "      <th>party</th>\n",
       "      <th>incumbent</th>\n",
       "      <th>dem</th>\n",
       "      <th>gop</th>\n",
       "      <th>total</th>\n",
       "    </tr>\n",
       "  </thead>\n",
       "  <tbody>\n",
       "    <tr>\n",
       "      <th>0</th>\n",
       "      <td>AK</td>\n",
       "      <td>1</td>\n",
       "      <td>1992</td>\n",
       "      <td>D</td>\n",
       "      <td>False</td>\n",
       "      <td>3019</td>\n",
       "      <td>3002</td>\n",
       "      <td>6021</td>\n",
       "    </tr>\n",
       "    <tr>\n",
       "      <th>1</th>\n",
       "      <td>AK</td>\n",
       "      <td>2</td>\n",
       "      <td>1992</td>\n",
       "      <td>D</td>\n",
       "      <td>True</td>\n",
       "      <td>4704</td>\n",
       "      <td>2169</td>\n",
       "      <td>6873</td>\n",
       "    </tr>\n",
       "    <tr>\n",
       "      <th>2</th>\n",
       "      <td>AK</td>\n",
       "      <td>3</td>\n",
       "      <td>1992</td>\n",
       "      <td>D</td>\n",
       "      <td>True</td>\n",
       "      <td>5210</td>\n",
       "      <td>2233</td>\n",
       "      <td>7443</td>\n",
       "    </tr>\n",
       "    <tr>\n",
       "      <th>3</th>\n",
       "      <td>AK</td>\n",
       "      <td>4</td>\n",
       "      <td>1992</td>\n",
       "      <td>R</td>\n",
       "      <td>True</td>\n",
       "      <td>1754</td>\n",
       "      <td>4538</td>\n",
       "      <td>6292</td>\n",
       "    </tr>\n",
       "    <tr>\n",
       "      <th>4</th>\n",
       "      <td>AK</td>\n",
       "      <td>5</td>\n",
       "      <td>1992</td>\n",
       "      <td>D</td>\n",
       "      <td>True</td>\n",
       "      <td>3953</td>\n",
       "      <td>0</td>\n",
       "      <td>3953</td>\n",
       "    </tr>\n",
       "  </tbody>\n",
       "</table>\n",
       "</div>"
      ],
      "text/plain": [
       "  state district  year party incumbent   dem   gop  total\n",
       "0    AK        1  1992     D     False  3019  3002   6021\n",
       "1    AK        2  1992     D      True  4704  2169   6873\n",
       "2    AK        3  1992     D      True  5210  2233   7443\n",
       "3    AK        4  1992     R      True  1754  4538   6292\n",
       "4    AK        5  1992     D      True  3953     0   3953"
      ]
     },
     "execution_count": 6,
     "metadata": {},
     "output_type": "execute_result"
    }
   ],
   "source": [
    "df.head()"
   ]
  },
  {
   "cell_type": "markdown",
   "metadata": {},
   "source": [
    "In this next step, we'll predict that we won't be looking at raw counts for some step of this process, and so we'll create a new dataframe that holds the ratios of Democratic to GOP voter counts by year. We'll group by year and sum each column, dividing it by the total, to find each year's ratio."
   ]
  },
  {
   "cell_type": "code",
   "execution_count": 7,
   "metadata": {
    "scrolled": true
   },
   "outputs": [
    {
     "data": {
      "text/html": [
       "<div>\n",
       "<table border=\"1\" class=\"dataframe\">\n",
       "  <thead>\n",
       "    <tr style=\"text-align: right;\">\n",
       "      <th></th>\n",
       "      <th>year</th>\n",
       "      <th>dem</th>\n",
       "      <th>gop</th>\n",
       "    </tr>\n",
       "  </thead>\n",
       "  <tbody>\n",
       "    <tr>\n",
       "      <th>0</th>\n",
       "      <td>1971</td>\n",
       "      <td>0.583459</td>\n",
       "      <td>0.416541</td>\n",
       "    </tr>\n",
       "    <tr>\n",
       "      <th>1</th>\n",
       "      <td>1972</td>\n",
       "      <td>0.509436</td>\n",
       "      <td>0.490564</td>\n",
       "    </tr>\n",
       "    <tr>\n",
       "      <th>2</th>\n",
       "      <td>1973</td>\n",
       "      <td>0.660898</td>\n",
       "      <td>0.339102</td>\n",
       "    </tr>\n",
       "    <tr>\n",
       "      <th>3</th>\n",
       "      <td>1974</td>\n",
       "      <td>0.574307</td>\n",
       "      <td>0.425693</td>\n",
       "    </tr>\n",
       "    <tr>\n",
       "      <th>4</th>\n",
       "      <td>1975</td>\n",
       "      <td>0.674162</td>\n",
       "      <td>0.325838</td>\n",
       "    </tr>\n",
       "  </tbody>\n",
       "</table>\n",
       "</div>"
      ],
      "text/plain": [
       "   year       dem       gop\n",
       "0  1971  0.583459  0.416541\n",
       "1  1972  0.509436  0.490564\n",
       "2  1973  0.660898  0.339102\n",
       "3  1974  0.574307  0.425693\n",
       "4  1975  0.674162  0.325838"
      ]
     },
     "execution_count": 7,
     "metadata": {},
     "output_type": "execute_result"
    }
   ],
   "source": [
    "years = df.groupby(['year'])\n",
    "ratios = pd.DataFrame()\n",
    "ratios['dem'] = years.sum()['dem'] / years.sum()['total']\n",
    "ratios['gop'] = years.sum()['gop'] / years.sum()['total']\n",
    "ratios = ratios.reset_index()\n",
    "ratios.head()"
   ]
  },
  {
   "cell_type": "markdown",
   "metadata": {},
   "source": [
    "### Exploratory Data Analysis (EDA) / Data Visualization"
   ]
  },
  {
   "cell_type": "markdown",
   "metadata": {},
   "source": [
    "The next step in the data analysis process is to perform some exploratory data analysis (EDA) to discover and unearth relationships or phenomena that are not always immediately obvious. Our dataset provides us with demographic information by political party, and so we'll first look to see if there are extraneous patterns within political party voting ratios that we must consider before we look at incumbency visualizations."
   ]
  },
  {
   "cell_type": "markdown",
   "metadata": {},
   "source": [
    "Below, we create two plots. The first only shows 4 year election cycles, and the second shows 2 year election cycles. These coincide with presidential and state elections, so we can see patterns when the voting population is pushed to vote."
   ]
  },
  {
   "cell_type": "code",
   "execution_count": 8,
   "metadata": {
    "scrolled": true
   },
   "outputs": [
    {
     "data": {
      "image/png": "[encoded data removed]",
      "text/plain": [
       "<matplotlib.figure.Figure at 0x7efe53972940>"
      ]
     },
     "metadata": {},
     "output_type": "display_data"
    }
   ],
   "source": [
    "fig, axes = plt.subplots(nrows=1, ncols=2, figsize=(20, 5))\n",
    "\n",
    "ratios[ratios.year % 4 == 0].plot.bar(\n",
    "    x='year', y='dem', ax=axes[0], color='red', position=1, width=.25)\n",
    "ratios[ratios.year % 4 == 0].plot.bar(\n",
    "    x='year', y='gop', ax=axes[0], color='blue', title='4 Year Election Cycles', position=0, width=.25)\n",
    "ratios[ratios.year % 4 == 2].plot.bar(\n",
    "    x='year', y='dem', ax=axes[1], color='red', position=1, width=.25)\n",
    "ratios[ratios.year % 4 == 2].plot.bar(\n",
    "    x='year', y='gop', ax=axes[1], color='blue', title='2 Year Election Cycles', position=0, width=.25)\n",
    "plt.show()"
   ]
  },
  {
   "cell_type": "markdown",
   "metadata": {},
   "source": [
    "Our visualizations show some interesting insights into the data, however nothing is too extreme to consider as far as incumbency goes, at least as far as the visual representations go. We can see that the elections after Watergate had far higher turnouts of Democrats than Republicans, however over time this evens out to a more equal / less uneven ratio. Now, let's take a look at a chart of incumbent win ratios. First, we need to create a dataframe that actually holds these ratios, and thankfully Pandas has some builtin functions that will make this very simple for us."
   ]
  },
  {
   "cell_type": "code",
   "execution_count": 9,
   "metadata": {
    "scrolled": false
   },
   "outputs": [
    {
     "data": {
      "text/html": [
       "<div>\n",
       "<table border=\"1\" class=\"dataframe\">\n",
       "  <thead>\n",
       "    <tr style=\"text-align: right;\">\n",
       "      <th></th>\n",
       "      <th>year</th>\n",
       "      <th>incumbent</th>\n",
       "      <th>ratio</th>\n",
       "    </tr>\n",
       "  </thead>\n",
       "  <tbody>\n",
       "    <tr>\n",
       "      <th>0</th>\n",
       "      <td>1971</td>\n",
       "      <td>True</td>\n",
       "      <td>0.610000</td>\n",
       "    </tr>\n",
       "    <tr>\n",
       "      <th>1</th>\n",
       "      <td>1971</td>\n",
       "      <td>False</td>\n",
       "      <td>0.390000</td>\n",
       "    </tr>\n",
       "    <tr>\n",
       "      <th>2</th>\n",
       "      <td>1972</td>\n",
       "      <td>True</td>\n",
       "      <td>0.633299</td>\n",
       "    </tr>\n",
       "    <tr>\n",
       "      <th>3</th>\n",
       "      <td>1972</td>\n",
       "      <td>False</td>\n",
       "      <td>0.366701</td>\n",
       "    </tr>\n",
       "    <tr>\n",
       "      <th>4</th>\n",
       "      <td>1973</td>\n",
       "      <td>True</td>\n",
       "      <td>0.620000</td>\n",
       "    </tr>\n",
       "  </tbody>\n",
       "</table>\n",
       "</div>"
      ],
      "text/plain": [
       "   year incumbent     ratio\n",
       "0  1971      True  0.610000\n",
       "1  1971     False  0.390000\n",
       "2  1972      True  0.633299\n",
       "3  1972     False  0.366701\n",
       "4  1973      True  0.620000"
      ]
     },
     "execution_count": 9,
     "metadata": {},
     "output_type": "execute_result"
    }
   ],
   "source": [
    "inc = df.groupby('year').incumbent.value_counts(normalize=True).to_frame()\n",
    "inc.columns = ['ratio']\n",
    "inc = inc.reset_index()\n",
    "inc.head()"
   ]
  },
  {
   "cell_type": "markdown",
   "metadata": {},
   "source": [
    "Next, let's plot these ratios over time to see the how the incumbency advantage has progressed over time."
   ]
  },
  {
   "cell_type": "code",
   "execution_count": 10,
   "metadata": {
    "scrolled": false
   },
   "outputs": [
    {
     "data": {
      "image/png": "[encoded data removed]",
      "text/plain": [
       "<matplotlib.figure.Figure at 0x7efe53959898>"
      ]
     },
     "metadata": {},
     "output_type": "display_data"
    }
   ],
   "source": [
    "inc[inc.incumbent].plot.line(x='year', y='ratio', color='purple', title='Ratio of Incumbent Wins')\n",
    "plt.show()"
   ]
  },
  {
   "cell_type": "markdown",
   "metadata": {},
   "source": [
    "Looking at our chart above, we can see a strange drop between 1980-1985. However, aside from that year, the incumbent win ratio is clearly above 60% for nearly the entire range of years. Before we move on to some machine learning algorithms, let's verify our claim that the incumbent advantage is statistically significant. We'll perform a proportion z test with $ \\alpha = .05 $ to determine if the incumbent ratio is statistically high."
   ]
  },
  {
   "cell_type": "code",
   "execution_count": 11,
   "metadata": {
    "scrolled": false
   },
   "outputs": [
    {
     "data": {
      "text/plain": [
       "'Z-Score'"
      ]
     },
     "metadata": {},
     "output_type": "display_data"
    },
    {
     "data": {
      "text/plain": [
       "1325.4135573587923"
      ]
     },
     "metadata": {},
     "output_type": "display_data"
    },
    {
     "data": {
      "text/plain": [
       "'P-Value'"
      ]
     },
     "metadata": {},
     "output_type": "display_data"
    },
    {
     "data": {
      "text/plain": [
       "0.0"
      ]
     },
     "metadata": {},
     "output_type": "display_data"
    }
   ],
   "source": [
    "count = df[df.incumbent].size\n",
    "total = df.size\n",
    "zscore, pval = proportions_ztest(count, total, 0)\n",
    "\n",
    "display('Z-Score', zscore, 'P-Value', pval)"
   ]
  },
  {
   "cell_type": "markdown",
   "metadata": {},
   "source": [
    "### Making Predictions with Machine Learning"
   ]
  },
  {
   "cell_type": "markdown",
   "metadata": {},
   "source": [
    "Let's see what we can predict with some machine learning algorithms. We'll assume that our independent variables will be the state and year, and we'll determine what advantage an incumbent candidate might have. We can do this in a number of ways. First, let's start by performing some linear regression to see what results we can get out of the most simple model possible."
   ]
  },
  {
   "cell_type": "code",
   "execution_count": 12,
   "metadata": {
    "scrolled": true
   },
   "outputs": [
    {
     "data": {
      "text/html": [
       "<div>\n",
       "<table border=\"1\" class=\"dataframe\">\n",
       "  <thead>\n",
       "    <tr style=\"text-align: right;\">\n",
       "      <th></th>\n",
       "      <th>0</th>\n",
       "      <th>1</th>\n",
       "    </tr>\n",
       "  </thead>\n",
       "  <tbody>\n",
       "    <tr>\n",
       "      <th>Intercept</th>\n",
       "      <td>2.164159</td>\n",
       "      <td>-1.164159</td>\n",
       "    </tr>\n",
       "    <tr>\n",
       "      <th>state[T.AL]</th>\n",
       "      <td>0.082895</td>\n",
       "      <td>-0.082895</td>\n",
       "    </tr>\n",
       "    <tr>\n",
       "      <th>state[T.AR]</th>\n",
       "      <td>0.001588</td>\n",
       "      <td>-0.001588</td>\n",
       "    </tr>\n",
       "    <tr>\n",
       "      <th>state[T.CA]</th>\n",
       "      <td>0.019500</td>\n",
       "      <td>-0.019500</td>\n",
       "    </tr>\n",
       "    <tr>\n",
       "      <th>state[T.CO]</th>\n",
       "      <td>0.059159</td>\n",
       "      <td>-0.059159</td>\n",
       "    </tr>\n",
       "  </tbody>\n",
       "</table>\n",
       "</div>"
      ],
      "text/plain": [
       "                    0         1\n",
       "Intercept    2.164159 -1.164159\n",
       "state[T.AL]  0.082895 -0.082895\n",
       "state[T.AR]  0.001588 -0.001588\n",
       "state[T.CA]  0.019500 -0.019500\n",
       "state[T.CO]  0.059159 -0.059159"
      ]
     },
     "execution_count": 12,
     "metadata": {},
     "output_type": "execute_result"
    }
   ],
   "source": [
    "sm.ols(formula='incumbent ~ year + state', data=df).fit().params.head()"
   ]
  },
  {
   "cell_type": "markdown",
   "metadata": {},
   "source": [
    "Immediately, we notice a problem. The problem is binary classification in nature, and a linear regression model is inherently used for regression instead of classification. Thankfully, statsmodel converted our incumbency status into a numerical 0 and 1, however it does not make much sense to look at the model from this viewpoint. Instead, we can do one of two things: we can change our regression outcome to give us a ratio or we can move to a classification algorithm. Why not both?"
   ]
  },
  {
   "cell_type": "code",
   "execution_count": 13,
   "metadata": {
    "scrolled": true
   },
   "outputs": [
    {
     "data": {
      "text/html": [
       "<table class=\"simpletable\">\n",
       "<caption>OLS Regression Results</caption>\n",
       "<tr>\n",
       "  <th>Dep. Variable:</th>          <td>ratio</td>      <th>  R-squared:         </th> <td>   0.171</td>\n",
       "</tr>\n",
       "<tr>\n",
       "  <th>Model:</th>                   <td>OLS</td>       <th>  Adj. R-squared:    </th> <td>   0.150</td>\n",
       "</tr>\n",
       "<tr>\n",
       "  <th>Method:</th>             <td>Least Squares</td>  <th>  F-statistic:       </th> <td>   8.224</td>\n",
       "</tr>\n",
       "<tr>\n",
       "  <th>Date:</th>             <td>Sat, 16 Dec 2017</td> <th>  Prob (F-statistic):</th>  <td>0.00657</td>\n",
       "</tr>\n",
       "<tr>\n",
       "  <th>Time:</th>                 <td>18:36:32</td>     <th>  Log-Likelihood:    </th> <td>  55.185</td>\n",
       "</tr>\n",
       "<tr>\n",
       "  <th>No. Observations:</th>      <td>    42</td>      <th>  AIC:               </th> <td>  -106.4</td>\n",
       "</tr>\n",
       "<tr>\n",
       "  <th>Df Residuals:</th>          <td>    40</td>      <th>  BIC:               </th> <td>  -102.9</td>\n",
       "</tr>\n",
       "<tr>\n",
       "  <th>Df Model:</th>              <td>     1</td>      <th>                     </th>     <td> </td>   \n",
       "</tr>\n",
       "<tr>\n",
       "  <th>Covariance Type:</th>      <td>nonrobust</td>    <th>                     </th>     <td> </td>   \n",
       "</tr>\n",
       "</table>\n",
       "<table class=\"simpletable\">\n",
       "<tr>\n",
       "      <td></td>         <th>coef</th>     <th>std err</th>      <th>t</th>      <th>P>|t|</th>  <th>[0.025</th>    <th>0.975]</th>  \n",
       "</tr>\n",
       "<tr>\n",
       "  <th>Intercept</th> <td>   -4.0897</td> <td>    1.689</td> <td>   -2.421</td> <td> 0.020</td> <td>   -7.504</td> <td>   -0.675</td>\n",
       "</tr>\n",
       "<tr>\n",
       "  <th>year</th>      <td>    0.0024</td> <td>    0.001</td> <td>    2.868</td> <td> 0.007</td> <td>    0.001</td> <td>    0.004</td>\n",
       "</tr>\n",
       "</table>\n",
       "<table class=\"simpletable\">\n",
       "<tr>\n",
       "  <th>Omnibus:</th>       <td> 2.883</td> <th>  Durbin-Watson:     </th> <td>   1.181</td>\n",
       "</tr>\n",
       "<tr>\n",
       "  <th>Prob(Omnibus):</th> <td> 0.237</td> <th>  Jarque-Bera (JB):  </th> <td>   2.133</td>\n",
       "</tr>\n",
       "<tr>\n",
       "  <th>Skew:</th>          <td> 0.548</td> <th>  Prob(JB):          </th> <td>   0.344</td>\n",
       "</tr>\n",
       "<tr>\n",
       "  <th>Kurtosis:</th>      <td> 3.127</td> <th>  Cond. No.          </th> <td>3.27e+05</td>\n",
       "</tr>\n",
       "</table>"
      ],
      "text/plain": [
       "<class 'statsmodels.iolib.summary.Summary'>\n",
       "\"\"\"\n",
       "                            OLS Regression Results                            \n",
       "==============================================================================\n",
       "Dep. Variable:                  ratio   R-squared:                       0.171\n",
       "Model:                            OLS   Adj. R-squared:                  0.150\n",
       "Method:                 Least Squares   F-statistic:                     8.224\n",
       "Date:                Sat, 16 Dec 2017   Prob (F-statistic):            0.00657\n",
       "Time:                        18:36:32   Log-Likelihood:                 55.185\n",
       "No. Observations:                  42   AIC:                            -106.4\n",
       "Df Residuals:                      40   BIC:                            -102.9\n",
       "Df Model:                           1                                         \n",
       "Covariance Type:            nonrobust                                         \n",
       "==============================================================================\n",
       "                 coef    std err          t      P>|t|      [0.025      0.975]\n",
       "------------------------------------------------------------------------------\n",
       "Intercept     -4.0897      1.689     -2.421      0.020      -7.504      -0.675\n",
       "year           0.0024      0.001      2.868      0.007       0.001       0.004\n",
       "==============================================================================\n",
       "Omnibus:                        2.883   Durbin-Watson:                   1.181\n",
       "Prob(Omnibus):                  0.237   Jarque-Bera (JB):                2.133\n",
       "Skew:                           0.548   Prob(JB):                        0.344\n",
       "Kurtosis:                       3.127   Cond. No.                     3.27e+05\n",
       "==============================================================================\n",
       "\n",
       "Warnings:\n",
       "[1] Standard Errors assume that the covariance matrix of the errors is correctly specified.\n",
       "[2] The condition number is large, 3.27e+05. This might indicate that there are\n",
       "strong multicollinearity or other numerical problems.\n",
       "\"\"\""
      ]
     },
     "execution_count": 13,
     "metadata": {},
     "output_type": "execute_result"
    }
   ],
   "source": [
    "sm.ols(formula='ratio ~ year', data=inc[inc.incumbent]).fit().summary()"
   ]
  },
  {
   "cell_type": "markdown",
   "metadata": {},
   "source": [
    "Above, we see that the coefficient for the year as far as the incumbency ratio is very small. Additionally, the P value is far above our classic $ \\alpha > 0.5 $, so we can actually exclude year from our analysis and only focus on a state. Now, let's look at how we can classify each state into an incumbent preference state or not. There does exist a possibility that every single state will give an advantage to incumbents, so we should be careful with our classification. To be clear, this is not a *machine learning* classification problem: we'll loop through each state and individually print out the ones that aren't advantageous to incumbents, assuming that these even exist."
   ]
  },
  {
   "cell_type": "code",
   "execution_count": 14,
   "metadata": {
    "scrolled": true
   },
   "outputs": [
    {
     "data": {
      "text/plain": [
       "[]"
      ]
     },
     "execution_count": 14,
     "metadata": {},
     "output_type": "execute_result"
    }
   ],
   "source": [
    "alpha = .05\n",
    "states = []\n",
    "\n",
    "for state in df.state.unique():\n",
    "    temp = df[df.state == state].drop(['state', 'district'], axis=1)\n",
    "    count = temp[temp.incumbent].size\n",
    "    total = temp.size\n",
    "    zscore, pval = proportions_ztest(count, total, 0)\n",
    "\n",
    "    if pval > alpha:\n",
    "        states.append(state)\n",
    "\n",
    "states"
   ]
  },
  {
   "cell_type": "markdown",
   "metadata": {},
   "source": [
    "As we predicted, there are literally no states that do not provide an incumbency advantage. Instead, we can move the focus of our classification to something else. Let's think about states that are crucial in Presidential elections specifically. The pattern we notice with these states is that they are never consistently red or blue: their voting behavior is unique and changes every election cycle. We can illustrate this by first determining the states which are NEITHER red or blue from our dataset. For our purposes, we'll define this requirement as being that on average, the ratio of voters voting one way or the other is different from the other party's ratio by at least 2%. This means that the ratio must be at best 52:48."
   ]
  },
  {
   "cell_type": "code",
   "execution_count": 15,
   "metadata": {
    "scrolled": true
   },
   "outputs": [
    {
     "data": {
      "text/plain": [
       "['DE', 'IA', 'MT', 'NC', 'NV', 'OH', 'OK', 'OR', 'PA', 'SC', 'TN', 'WI']"
      ]
     },
     "execution_count": 15,
     "metadata": {},
     "output_type": "execute_result"
    }
   ],
   "source": [
    "alpha = .05\n",
    "states = []\n",
    "\n",
    "for state in df.state.unique():\n",
    "    temp = df[df.state == state].drop(['state', 'district'], axis=1)\n",
    "    count = temp.dem.sum()\n",
    "    total = temp.total.sum()\n",
    "    \n",
    "    if abs(.5 - (count / total)) < .02:\n",
    "        states.append(state)\n",
    "\n",
    "states"
   ]
  },
  {
   "cell_type": "markdown",
   "metadata": {},
   "source": [
    "Great! We've now found 12 states that are a little bit more important than the others as far as elections go because they flip flop more than others. You'll also recognize some of these states as actually being crucial states in elections, and though it's not perfect because our method of determining a state that is volatile was not perfect, it is a good enough representation for our purposes. Our next step should be to limit our dataframe with these states and take a look at its statistics to see what has changed and to see if our initial goal can be molded by what we learn from our new dataset.\n",
    "\n",
    "Also, you'll notice that even though we're \"in\" the next phase of the data analysis process, we're actually moving between phases. This is a really important thing to note and learn about the data analysis timeline. This is supposed to happen! Most data science involves going back and forth between steps to constantly refine your analysis. If we were rooted in our way because that was our initial goal, then letting machines learn and process data for us would be all but futile."
   ]
  },
  {
   "cell_type": "code",
   "execution_count": 16,
   "metadata": {
    "scrolled": false
   },
   "outputs": [
    {
     "data": {
      "text/plain": [
       "year          1992.672959\n",
       "incumbent        0.760575\n",
       "dem           7756.832590\n",
       "gop           7660.240867\n",
       "total        15417.073457\n",
       "dtype: float64"
      ]
     },
     "execution_count": 16,
     "metadata": {},
     "output_type": "execute_result"
    }
   ],
   "source": [
    "state_df = df[df.state.isin(states)]\n",
    "state_df.mean()"
   ]
  },
  {
   "cell_type": "markdown",
   "metadata": {},
   "source": [
    "Looking at the average statistics, we can see that our incumbent advantage ratio is still similar to our previous ratio of about .75. We also, however, see that our Democrat vs. GOP voter counts are much closer to even than we've seen previously. There are two things we have to consider at this point. First, why is the incumbency advantage so similar at all levels of analysis? How come every single state has an incumbency advantage that is so drastic? We'll discuss this below, but at this point there is no classification to be done as far as determining the advantage goes. Instead, let's perform some regression on how the incumbency advantage has changed over time, and where it might be heading in the future."
   ]
  },
  {
   "cell_type": "code",
   "execution_count": 17,
   "metadata": {
    "scrolled": false
   },
   "outputs": [
    {
     "data": {
      "text/html": [
       "<div>\n",
       "<table border=\"1\" class=\"dataframe\">\n",
       "  <thead>\n",
       "    <tr style=\"text-align: right;\">\n",
       "      <th></th>\n",
       "      <th>year</th>\n",
       "      <th>incumbent</th>\n",
       "      <th>dem</th>\n",
       "      <th>gop</th>\n",
       "      <th>total</th>\n",
       "    </tr>\n",
       "  </thead>\n",
       "  <tbody>\n",
       "    <tr>\n",
       "      <th>0</th>\n",
       "      <td>1971</td>\n",
       "      <td>0.610000</td>\n",
       "      <td>3364.110000</td>\n",
       "      <td>2401.690000</td>\n",
       "      <td>5765.800000</td>\n",
       "    </tr>\n",
       "    <tr>\n",
       "      <th>1</th>\n",
       "      <td>1972</td>\n",
       "      <td>0.633299</td>\n",
       "      <td>9569.031639</td>\n",
       "      <td>9214.540456</td>\n",
       "      <td>18783.572095</td>\n",
       "    </tr>\n",
       "    <tr>\n",
       "      <th>2</th>\n",
       "      <td>1973</td>\n",
       "      <td>0.620000</td>\n",
       "      <td>4063.130000</td>\n",
       "      <td>2084.760000</td>\n",
       "      <td>6147.890000</td>\n",
       "    </tr>\n",
       "    <tr>\n",
       "      <th>3</th>\n",
       "      <td>1974</td>\n",
       "      <td>0.655662</td>\n",
       "      <td>7136.910573</td>\n",
       "      <td>5290.084413</td>\n",
       "      <td>12426.994985</td>\n",
       "    </tr>\n",
       "    <tr>\n",
       "      <th>4</th>\n",
       "      <td>1975</td>\n",
       "      <td>0.670000</td>\n",
       "      <td>4044.360000</td>\n",
       "      <td>1954.730000</td>\n",
       "      <td>5999.090000</td>\n",
       "    </tr>\n",
       "  </tbody>\n",
       "</table>\n",
       "</div>"
      ],
      "text/plain": [
       "   year  incumbent          dem          gop         total\n",
       "0  1971   0.610000  3364.110000  2401.690000   5765.800000\n",
       "1  1972   0.633299  9569.031639  9214.540456  18783.572095\n",
       "2  1973   0.620000  4063.130000  2084.760000   6147.890000\n",
       "3  1974   0.655662  7136.910573  5290.084413  12426.994985\n",
       "4  1975   0.670000  4044.360000  1954.730000   5999.090000"
      ]
     },
     "execution_count": 17,
     "metadata": {},
     "output_type": "execute_result"
    }
   ],
   "source": [
    "inc_y = df.groupby('year').mean().reset_index()\n",
    "inc_y.head()"
   ]
  },
  {
   "cell_type": "markdown",
   "metadata": {},
   "source": [
    "From the head of our new dataset, we can already see that there is some change in the incumbent advantage ratio over time. Let's perform some linear regression again and this time, hopefully we can incorporate some machine learning into the fact."
   ]
  },
  {
   "cell_type": "code",
   "execution_count": 18,
   "metadata": {
    "scrolled": false
   },
   "outputs": [
    {
     "data": {
      "text/html": [
       "<table class=\"simpletable\">\n",
       "<caption>OLS Regression Results</caption>\n",
       "<tr>\n",
       "  <th>Dep. Variable:</th>        <td>incumbent</td>    <th>  R-squared:         </th> <td>   0.171</td>\n",
       "</tr>\n",
       "<tr>\n",
       "  <th>Model:</th>                   <td>OLS</td>       <th>  Adj. R-squared:    </th> <td>   0.150</td>\n",
       "</tr>\n",
       "<tr>\n",
       "  <th>Method:</th>             <td>Least Squares</td>  <th>  F-statistic:       </th> <td>   8.224</td>\n",
       "</tr>\n",
       "<tr>\n",
       "  <th>Date:</th>             <td>Sat, 16 Dec 2017</td> <th>  Prob (F-statistic):</th>  <td>0.00657</td>\n",
       "</tr>\n",
       "<tr>\n",
       "  <th>Time:</th>                 <td>18:36:33</td>     <th>  Log-Likelihood:    </th> <td>  55.185</td>\n",
       "</tr>\n",
       "<tr>\n",
       "  <th>No. Observations:</th>      <td>    42</td>      <th>  AIC:               </th> <td>  -106.4</td>\n",
       "</tr>\n",
       "<tr>\n",
       "  <th>Df Residuals:</th>          <td>    40</td>      <th>  BIC:               </th> <td>  -102.9</td>\n",
       "</tr>\n",
       "<tr>\n",
       "  <th>Df Model:</th>              <td>     1</td>      <th>                     </th>     <td> </td>   \n",
       "</tr>\n",
       "<tr>\n",
       "  <th>Covariance Type:</th>      <td>nonrobust</td>    <th>                     </th>     <td> </td>   \n",
       "</tr>\n",
       "</table>\n",
       "<table class=\"simpletable\">\n",
       "<tr>\n",
       "      <td></td>         <th>coef</th>     <th>std err</th>      <th>t</th>      <th>P>|t|</th>  <th>[0.025</th>    <th>0.975]</th>  \n",
       "</tr>\n",
       "<tr>\n",
       "  <th>Intercept</th> <td>   -4.0897</td> <td>    1.689</td> <td>   -2.421</td> <td> 0.020</td> <td>   -7.504</td> <td>   -0.675</td>\n",
       "</tr>\n",
       "<tr>\n",
       "  <th>year</th>      <td>    0.0024</td> <td>    0.001</td> <td>    2.868</td> <td> 0.007</td> <td>    0.001</td> <td>    0.004</td>\n",
       "</tr>\n",
       "</table>\n",
       "<table class=\"simpletable\">\n",
       "<tr>\n",
       "  <th>Omnibus:</th>       <td> 2.883</td> <th>  Durbin-Watson:     </th> <td>   1.181</td>\n",
       "</tr>\n",
       "<tr>\n",
       "  <th>Prob(Omnibus):</th> <td> 0.237</td> <th>  Jarque-Bera (JB):  </th> <td>   2.133</td>\n",
       "</tr>\n",
       "<tr>\n",
       "  <th>Skew:</th>          <td> 0.548</td> <th>  Prob(JB):          </th> <td>   0.344</td>\n",
       "</tr>\n",
       "<tr>\n",
       "  <th>Kurtosis:</th>      <td> 3.127</td> <th>  Cond. No.          </th> <td>3.27e+05</td>\n",
       "</tr>\n",
       "</table>"
      ],
      "text/plain": [
       "<class 'statsmodels.iolib.summary.Summary'>\n",
       "\"\"\"\n",
       "                            OLS Regression Results                            \n",
       "==============================================================================\n",
       "Dep. Variable:              incumbent   R-squared:                       0.171\n",
       "Model:                            OLS   Adj. R-squared:                  0.150\n",
       "Method:                 Least Squares   F-statistic:                     8.224\n",
       "Date:                Sat, 16 Dec 2017   Prob (F-statistic):            0.00657\n",
       "Time:                        18:36:33   Log-Likelihood:                 55.185\n",
       "No. Observations:                  42   AIC:                            -106.4\n",
       "Df Residuals:                      40   BIC:                            -102.9\n",
       "Df Model:                           1                                         \n",
       "Covariance Type:            nonrobust                                         \n",
       "==============================================================================\n",
       "                 coef    std err          t      P>|t|      [0.025      0.975]\n",
       "------------------------------------------------------------------------------\n",
       "Intercept     -4.0897      1.689     -2.421      0.020      -7.504      -0.675\n",
       "year           0.0024      0.001      2.868      0.007       0.001       0.004\n",
       "==============================================================================\n",
       "Omnibus:                        2.883   Durbin-Watson:                   1.181\n",
       "Prob(Omnibus):                  0.237   Jarque-Bera (JB):                2.133\n",
       "Skew:                           0.548   Prob(JB):                        0.344\n",
       "Kurtosis:                       3.127   Cond. No.                     3.27e+05\n",
       "==============================================================================\n",
       "\n",
       "Warnings:\n",
       "[1] Standard Errors assume that the covariance matrix of the errors is correctly specified.\n",
       "[2] The condition number is large, 3.27e+05. This might indicate that there are\n",
       "strong multicollinearity or other numerical problems.\n",
       "\"\"\""
      ]
     },
     "execution_count": 18,
     "metadata": {},
     "output_type": "execute_result"
    }
   ],
   "source": [
    "sm.ols(formula='incumbent ~ year', data=inc_y).fit().summary()"
   ]
  },
  {
   "cell_type": "markdown",
   "metadata": {},
   "source": [
    "Great! We can see that there is some sort of noticeable coefficient with the change in incumbency attached to year, and the P value is significant ($ 0.007 < \\alpha = .05 $). Finally, we've found a noticeable change and we can perform some machine learning with it. Let's use a support vector machine (SVM) regression algorithm from scikit-learn ([read about it here](http://scikit-learn.org/stable/modules/svm.html)) to predict how the incumbency advantage ratio will change over time."
   ]
  },
  {
   "cell_type": "code",
   "execution_count": 19,
   "metadata": {},
   "outputs": [
    {
     "data": {
      "text/plain": [
       "SVR(C=1.0, cache_size=200, coef0=0.0, degree=3, epsilon=0.1, gamma='auto',\n",
       "  kernel='rbf', max_iter=-1, shrinking=True, tol=0.001, verbose=False)"
      ]
     },
     "execution_count": 19,
     "metadata": {},
     "output_type": "execute_result"
    }
   ],
   "source": [
    "X = inc_y.year.values.reshape(-1, 1)\n",
    "y = inc_y.incumbent\n",
    "clf = svm.SVR()\n",
    "clf.fit(X, y)"
   ]
  },
  {
   "cell_type": "markdown",
   "metadata": {},
   "source": [
    "Now that we've fit our model (with all of our data instead of test and train: we'll do that soon), we can try some numbers to see if they work. Let's see if we can make reasonable predictions about the incumbency advantage using decimal years."
   ]
  },
  {
   "cell_type": "code",
   "execution_count": 20,
   "metadata": {},
   "outputs": [
    {
     "data": {
      "text/plain": [
       "array([ 0.72548716,  0.73855197,  0.75759672])"
      ]
     },
     "execution_count": 20,
     "metadata": {},
     "output_type": "execute_result"
    }
   ],
   "source": [
    "clf.predict([[1972.4], [1982.4], [2010]])"
   ]
  },
  {
   "cell_type": "markdown",
   "metadata": {},
   "source": [
    "We find that our incumbency advantage is definitely increasing over time according to our fitted SVM. However, we must remember that our SVM is only of degree 3, so perhaps a higher degree might show a different trend in the change of data. Let's perform a cross validation score procedure to determine how our current algorithm performs ([read about it here](http://scikit-learn.org/stable/modules/cross_validation.html))."
   ]
  },
  {
   "cell_type": "code",
   "execution_count": 21,
   "metadata": {},
   "outputs": [
    {
     "data": {
      "text/plain": [
       "0.08694445998485556"
      ]
     },
     "execution_count": 21,
     "metadata": {},
     "output_type": "execute_result"
    }
   ],
   "source": [
    "X_train, X_test, y_train, y_test = train_test_split(X, y, test_size=0.4, random_state=0)\n",
    "\n",
    "clf = svm.SVR()\n",
    "clf.fit(X_train, y_train)\n",
    "clf.score(X_test, y_test)"
   ]
  },
  {
   "cell_type": "markdown",
   "metadata": {},
   "source": [
    "Great! Our algorithm seems to be close to 0. Let's try this by calculating the average score over a number of *folds* ([read about it here for a previous tutorial](https://github.com/evinaik/cmsc320-project3/blob/master/Project%203.ipynb), [or here](http://scikit-learn.org/stable/modules/cross_validation.html)). We'll use a number of splits (in this case 10) to determine if our SVM is really as great as it seems. We're also using a scoring mechanism called \"neg_mean_squared_error\" to make our results a little more human readable. This will return negative values of the MSE, but it's simply the sign flipped. It's a result of the implementation of the algorithm and changes made in very recent versions."
   ]
  },
  {
   "cell_type": "code",
   "execution_count": 22,
   "metadata": {},
   "outputs": [
    {
     "data": {
      "text/plain": [
       "array([-0.02016392, -0.00223709, -0.00569159, -0.0112378 , -0.00285032,\n",
       "       -0.00546903, -0.005687  , -0.00105228, -0.00201399, -0.00122587])"
      ]
     },
     "execution_count": 22,
     "metadata": {},
     "output_type": "execute_result"
    }
   ],
   "source": [
    "clf = svm.SVR()\n",
    "cross_val_score(clf, X, y, cv=10, scoring='neg_mean_squared_error')"
   ]
  },
  {
   "cell_type": "markdown",
   "metadata": {},
   "source": [
    "Fortunately, it really looks like our SVM does perform as great as, if not better than our simple linear regression. While we could probably determine the point at which the SVM starts outperforming the linear regression or vice versa, it's really not quite necessary. Just for kicks, let's see what the incumbency advantage looks like for a few years."
   ]
  },
  {
   "cell_type": "code",
   "execution_count": 23,
   "metadata": {},
   "outputs": [
    {
     "data": {
      "text/plain": [
       "array([ 0.74438459,  0.76217301,  0.76217301])"
      ]
     },
     "execution_count": 23,
     "metadata": {},
     "output_type": "execute_result"
    }
   ],
   "source": [
    "clf = svm.SVR()\n",
    "clf.fit(X_train, y_train)\n",
    "clf.predict([[1970], [2017], [2020]])"
   ]
  },
  {
   "cell_type": "markdown",
   "metadata": {},
   "source": [
    "Interesting! According to our algorithm, the incumbency advantage ratio has evened out right about now, and while that may not be accurate, there's not much more to say from our dataset about future years until we're actually in them."
   ]
  },
  {
   "cell_type": "markdown",
   "metadata": {},
   "source": [
    "### Conclusion / Policy Decision"
   ]
  },
  {
   "cell_type": "markdown",
   "metadata": {
    "collapsed": true,
    "scrolled": true
   },
   "source": [
    "Looking back at our entire timeline, our original goal was to visualize the incumbency advantage and determine if there was some kind of prediction we could make about it. While we initially thought that we could predict if the incumbency advantage existed based on the year and the state, we made further and further strides until finding that **every** state has an incumbency advantage of some sort that is, for our intents and purposes, disprovable. As data scientists, this is part of the process, and the best thing we can do is make some other kind of related prediction that still provides us insights that are useful for other reasons.\n",
    "\n",
    "In our case, we decided that determining a good regression fit and predicting the ratio of the incumbency advantage (incumbency wins over total wins) was a good way to move forward. We found that both linear regression and an SVM regression were ways to solve this problem.\n",
    "\n",
    "Our intention with this entire tutorial was to show that the data analysis timeline is both interesting and complex. We hope that some of the links we provided were helpful in understanding the less obvious and more complex operations performed in the article, and we encourage any readers to perform some data analysis on their own, no matter how big or small! Thanks for reading!"
   ]
  },
  {
   "cell_type": "code",
   "execution_count": null,
   "metadata": {
    "collapsed": true
   },
   "outputs": [],
   "source": []
  }
 ],
 "metadata": {
  "kernelspec": {
   "display_name": "Python 3",
   "language": "python",
   "name": "python3"
  },
  "language_info": {
   "codemirror_mode": {
    "name": "ipython",
    "version": 3
   },
   "file_extension": ".py",
   "mimetype": "text/x-python",
   "name": "python",
   "nbconvert_exporter": "python",
   "pygments_lexer": "ipython3",
   "version": "3.6.2"
  }
 },
 "nbformat": 4,
 "nbformat_minor": 2
}
