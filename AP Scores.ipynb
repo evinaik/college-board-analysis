{
 "cells": [
  {
   "cell_type": "markdown",
   "metadata": {},
   "source": [
    "# Analyzing the Fairness of AP Scores"
   ]
  },
  {
   "cell_type": "markdown",
   "metadata": {},
   "source": [
    "## Ekansh Vinaik, Matthew Chung"
   ]
  },
  {
   "cell_type": "markdown",
   "metadata": {},
   "source": [
    "### Getting Started"
   ]
  },
  {
   "cell_type": "markdown",
   "metadata": {},
   "source": [
    "If you're reading this, there's a high likelihood that you have heard of or taken a standardized test. One such organization that creates these tests is the College Board: a *self-proclaimed nonprofit* organization that claims to provide **capable** students with the ability to gain college credit for high school courses. What exactly does the word capable mean? To discover the existence of any possible definitions or biases for the capability of a student, let's analyze a [College Board provided dataset from Kaggle (2016)](https://www.kaggle.com/collegeboard/ap-scores). It provides demographic (race and gender) based data on AP scores by exam. We'll start by importing necessary modules."
   ]
  },
  {
   "cell_type": "code",
   "execution_count": 85,
   "metadata": {
    "collapsed": true,
    "scrolled": true
   },
   "outputs": [],
   "source": [
    "import math\n",
    "import pandas as pd\n",
    "import numpy as np\n",
    "import matplotlib.pyplot as plt\n",
    "import matplotlib.mlab as mlab\n",
    "import statsmodels.formula.api as sm\n",
    "import seaborn as sns\n",
    "from matplotlib import gridspec"
   ]
  },
  {
   "cell_type": "markdown",
   "metadata": {},
   "source": [
    "Let's load in the dataset and see what we have to work with. Though the dataset is provided directly from Kaggle and the College Board, we should be prepared to perform some **data wrangling**."
   ]
  },
  {
   "cell_type": "code",
   "execution_count": 3,
   "metadata": {
    "scrolled": true
   },
   "outputs": [
    {
     "data": {
      "text/html": [
       "<div>\n",
       "<table border=\"1\" class=\"dataframe\">\n",
       "  <thead>\n",
       "    <tr style=\"text-align: right;\">\n",
       "      <th></th>\n",
       "      <th>Exam Subject</th>\n",
       "      <th>Score</th>\n",
       "      <th>Students (11th Grade)</th>\n",
       "      <th>Students (12th Grade)</th>\n",
       "      <th>Students (Male)</th>\n",
       "      <th>Students (Female)</th>\n",
       "      <th>Students (White)</th>\n",
       "      <th>Students (Black)</th>\n",
       "      <th>Students (Hispanic/Latino)</th>\n",
       "      <th>Students (Asian)</th>\n",
       "      <th>Students (American Indian/Alaska Native)</th>\n",
       "      <th>Students (Native Hawaiian/Pacific Islander)</th>\n",
       "      <th>Students (Two or More Races)</th>\n",
       "      <th>All Students (2016)</th>\n",
       "    </tr>\n",
       "  </thead>\n",
       "  <tbody>\n",
       "    <tr>\n",
       "      <th>0</th>\n",
       "      <td>ART HISTORY</td>\n",
       "      <td>5</td>\n",
       "      <td>897.00</td>\n",
       "      <td>1260.00</td>\n",
       "      <td>815.00</td>\n",
       "      <td>1889.00</td>\n",
       "      <td>1631.00</td>\n",
       "      <td>34</td>\n",
       "      <td>321.00</td>\n",
       "      <td>514.00</td>\n",
       "      <td>5</td>\n",
       "      <td>5</td>\n",
       "      <td>154.00</td>\n",
       "      <td>2704.00</td>\n",
       "    </tr>\n",
       "    <tr>\n",
       "      <th>1</th>\n",
       "      <td>ART HISTORY</td>\n",
       "      <td>4</td>\n",
       "      <td>1835.00</td>\n",
       "      <td>2608.00</td>\n",
       "      <td>1800.00</td>\n",
       "      <td>3787.00</td>\n",
       "      <td>3290.00</td>\n",
       "      <td>132</td>\n",
       "      <td>918.00</td>\n",
       "      <td>877.00</td>\n",
       "      <td>13</td>\n",
       "      <td>8</td>\n",
       "      <td>273.00</td>\n",
       "      <td>5587.00</td>\n",
       "    </tr>\n",
       "    <tr>\n",
       "      <th>2</th>\n",
       "      <td>ART HISTORY</td>\n",
       "      <td>3</td>\n",
       "      <td>2311.00</td>\n",
       "      <td>3282.00</td>\n",
       "      <td>2283.00</td>\n",
       "      <td>4657.00</td>\n",
       "      <td>3898.00</td>\n",
       "      <td>287</td>\n",
       "      <td>1347.00</td>\n",
       "      <td>992.00</td>\n",
       "      <td>19</td>\n",
       "      <td>10</td>\n",
       "      <td>307.00</td>\n",
       "      <td>6940.00</td>\n",
       "    </tr>\n",
       "    <tr>\n",
       "      <th>3</th>\n",
       "      <td>ART HISTORY</td>\n",
       "      <td>2</td>\n",
       "      <td>2252.00</td>\n",
       "      <td>3248.00</td>\n",
       "      <td>2374.00</td>\n",
       "      <td>4494.00</td>\n",
       "      <td>3211.00</td>\n",
       "      <td>450</td>\n",
       "      <td>1972.00</td>\n",
       "      <td>809.00</td>\n",
       "      <td>15</td>\n",
       "      <td>21</td>\n",
       "      <td>280.00</td>\n",
       "      <td>6868.00</td>\n",
       "    </tr>\n",
       "    <tr>\n",
       "      <th>4</th>\n",
       "      <td>ART HISTORY</td>\n",
       "      <td>1</td>\n",
       "      <td>901.00</td>\n",
       "      <td>1352.00</td>\n",
       "      <td>1072.00</td>\n",
       "      <td>1699.00</td>\n",
       "      <td>942.00</td>\n",
       "      <td>307</td>\n",
       "      <td>1074.00</td>\n",
       "      <td>292.00</td>\n",
       "      <td>13</td>\n",
       "      <td>10</td>\n",
       "      <td>87.00</td>\n",
       "      <td>2771.00</td>\n",
       "    </tr>\n",
       "    <tr>\n",
       "      <th>5</th>\n",
       "      <td>ART HISTORY</td>\n",
       "      <td>All</td>\n",
       "      <td>8196.00</td>\n",
       "      <td>11750.00</td>\n",
       "      <td>8344.00</td>\n",
       "      <td>16526.00</td>\n",
       "      <td>12972.00</td>\n",
       "      <td>1210</td>\n",
       "      <td>5632.00</td>\n",
       "      <td>3484.00</td>\n",
       "      <td>65</td>\n",
       "      <td>54</td>\n",
       "      <td>1101.00</td>\n",
       "      <td>24870.00</td>\n",
       "    </tr>\n",
       "    <tr>\n",
       "      <th>6</th>\n",
       "      <td>ART HISTORY</td>\n",
       "      <td>Average</td>\n",
       "      <td>2.95</td>\n",
       "      <td>2.93</td>\n",
       "      <td>2.87</td>\n",
       "      <td>2.98</td>\n",
       "      <td>3.11</td>\n",
       "      <td>2.29</td>\n",
       "      <td>2.55</td>\n",
       "      <td>3.15</td>\n",
       "      <td>2.72</td>\n",
       "      <td>2.57</td>\n",
       "      <td>3.12</td>\n",
       "      <td>2.94</td>\n",
       "    </tr>\n",
       "  </tbody>\n",
       "</table>\n",
       "</div>"
      ],
      "text/plain": [
       "  Exam Subject    Score  Students (11th Grade)  Students (12th Grade)  \\\n",
       "0  ART HISTORY        5                 897.00                1260.00   \n",
       "1  ART HISTORY        4                1835.00                2608.00   \n",
       "2  ART HISTORY        3                2311.00                3282.00   \n",
       "3  ART HISTORY        2                2252.00                3248.00   \n",
       "4  ART HISTORY        1                 901.00                1352.00   \n",
       "5  ART HISTORY      All                8196.00               11750.00   \n",
       "6  ART HISTORY  Average                   2.95                   2.93   \n",
       "\n",
       "   Students (Male)  Students (Female)  Students (White) Students (Black)  \\\n",
       "0           815.00            1889.00           1631.00               34   \n",
       "1          1800.00            3787.00           3290.00              132   \n",
       "2          2283.00            4657.00           3898.00              287   \n",
       "3          2374.00            4494.00           3211.00              450   \n",
       "4          1072.00            1699.00            942.00              307   \n",
       "5          8344.00           16526.00          12972.00             1210   \n",
       "6             2.87               2.98              3.11             2.29   \n",
       "\n",
       "   Students (Hispanic/Latino)  Students (Asian)  \\\n",
       "0                      321.00            514.00   \n",
       "1                      918.00            877.00   \n",
       "2                     1347.00            992.00   \n",
       "3                     1972.00            809.00   \n",
       "4                     1074.00            292.00   \n",
       "5                     5632.00           3484.00   \n",
       "6                        2.55              3.15   \n",
       "\n",
       "  Students (American Indian/Alaska Native)  \\\n",
       "0                                        5   \n",
       "1                                       13   \n",
       "2                                       19   \n",
       "3                                       15   \n",
       "4                                       13   \n",
       "5                                       65   \n",
       "6                                     2.72   \n",
       "\n",
       "  Students (Native Hawaiian/Pacific Islander)  Students (Two or More Races)  \\\n",
       "0                                           5                        154.00   \n",
       "1                                           8                        273.00   \n",
       "2                                          10                        307.00   \n",
       "3                                          21                        280.00   \n",
       "4                                          10                         87.00   \n",
       "5                                          54                       1101.00   \n",
       "6                                        2.57                          3.12   \n",
       "\n",
       "   All Students (2016)  \n",
       "0              2704.00  \n",
       "1              5587.00  \n",
       "2              6940.00  \n",
       "3              6868.00  \n",
       "4              2771.00  \n",
       "5             24870.00  \n",
       "6                 2.94  "
      ]
     },
     "execution_count": 3,
     "metadata": {},
     "output_type": "execute_result"
    }
   ],
   "source": [
    "df = pd.read_csv('ap/exams.csv')\n",
    "df.head(7)"
   ]
  },
  {
   "cell_type": "markdown",
   "metadata": {},
   "source": [
    "### Data Wrangling"
   ]
  },
  {
   "cell_type": "markdown",
   "metadata": {},
   "source": [
    "Unfortunately, it seems like our data is not in a suitable format. We want to simplify the data as much as possible into separate observations.\n",
    "\n",
    "Let's start by melting the columns so that the race is an observation rather than a label. We'll also rename the columns to be easier to use. Finally, convert the AP scores and their counts to numeric values and drop any rows that are missing values, as these will only include rows with non numeric scores."
   ]
  },
  {
   "cell_type": "code",
   "execution_count": 4,
   "metadata": {
    "collapsed": true,
    "scrolled": false
   },
   "outputs": [],
   "source": [
    "df = pd.melt(df, id_vars=['Exam Subject', 'Score'], var_name='group')\n",
    "df.columns = ['exam', 'score', 'group', 'count']\n",
    "df['group'] = df['group'].str.extract(r\"\\((.*?)\\)\", expand=False)\n",
    "df['score'] = pd.to_numeric(df['score'], errors='coerce')\n",
    "df['count'] = pd.to_numeric(df['count'], errors='coerce')\n",
    "df.dropna(inplace=True)"
   ]
  },
  {
   "cell_type": "markdown",
   "metadata": {},
   "source": [
    "If we consider how many AP exams exist and the number of groups, we'll find that analyzing scores by both exam topic and group will be tedious, lengthy, and unlikely to be more informative than analyzing exam scores with respect to demographic only. Instead, let's group exams by STEM or Humanities as these are common divides between subjects. We'll use the [definition of STEM from the College Board](https://apcentral.collegeboard.org/courses)."
   ]
  },
  {
   "cell_type": "code",
   "execution_count": 5,
   "metadata": {
    "collapsed": true,
    "scrolled": false
   },
   "outputs": [],
   "source": [
    "stem = ['BIOLOGY', 'CALCULUS AB', 'CALCULUS BC', 'CHEMISTRY',\n",
    "        'COMPUTER SCIENCE A', 'ENVIRONMENTAL SCIENCE',\n",
    "        'PHYSICS C: ELECTRICITY & MAGNETISM', 'PHYSICS C: MECHANICS',\n",
    "        'PHYSICS 1', 'PHYSICS 2', 'STATISTICS']\n",
    "df['stem'] = df['exam'].isin(stem)\n",
    "df.drop('exam', inplace=True, axis=1)\n",
    "df = df.groupby(['group', 'stem', 'score']).sum().reset_index()"
   ]
  },
  {
   "cell_type": "markdown",
   "metadata": {},
   "source": [
    "The last step in our data wrangling pipeline will be to use an alternative to raw counts. Because raw counts are less useful in comparing data with different total counts, we'll use a proportion instead. To do so, let's calculate the ratio of students who get each score in each demographic for both STEM and non STEM."
   ]
  },
  {
   "cell_type": "code",
   "execution_count": 6,
   "metadata": {
    "collapsed": true
   },
   "outputs": [],
   "source": [
    "def weighted_avg_and_std(values, weights):\n",
    "    average = np.average(values, weights=weights)\n",
    "    variance = np.average((values-average)**2, weights=weights)\n",
    "    return (average, variance)"
   ]
  },
  {
   "cell_type": "code",
   "execution_count": 7,
   "metadata": {
    "scrolled": true
   },
   "outputs": [
    {
     "data": {
      "text/html": [
       "<div>\n",
       "<table border=\"1\" class=\"dataframe\">\n",
       "  <thead>\n",
       "    <tr style=\"text-align: right;\">\n",
       "      <th></th>\n",
       "      <th>group</th>\n",
       "      <th>stem</th>\n",
       "      <th>score</th>\n",
       "      <th>count</th>\n",
       "      <th>ratio</th>\n",
       "    </tr>\n",
       "  </thead>\n",
       "  <tbody>\n",
       "    <tr>\n",
       "      <th>0</th>\n",
       "      <td>11th Grade</td>\n",
       "      <td>False</td>\n",
       "      <td>1.0</td>\n",
       "      <td>209441.0</td>\n",
       "      <td>0.166913</td>\n",
       "    </tr>\n",
       "    <tr>\n",
       "      <th>1</th>\n",
       "      <td>11th Grade</td>\n",
       "      <td>False</td>\n",
       "      <td>2.0</td>\n",
       "      <td>320055.0</td>\n",
       "      <td>0.255067</td>\n",
       "    </tr>\n",
       "    <tr>\n",
       "      <th>2</th>\n",
       "      <td>11th Grade</td>\n",
       "      <td>False</td>\n",
       "      <td>3.0</td>\n",
       "      <td>315632.0</td>\n",
       "      <td>0.251542</td>\n",
       "    </tr>\n",
       "    <tr>\n",
       "      <th>3</th>\n",
       "      <td>11th Grade</td>\n",
       "      <td>False</td>\n",
       "      <td>4.0</td>\n",
       "      <td>246087.0</td>\n",
       "      <td>0.196118</td>\n",
       "    </tr>\n",
       "    <tr>\n",
       "      <th>4</th>\n",
       "      <td>11th Grade</td>\n",
       "      <td>False</td>\n",
       "      <td>5.0</td>\n",
       "      <td>163574.0</td>\n",
       "      <td>0.130360</td>\n",
       "    </tr>\n",
       "  </tbody>\n",
       "</table>\n",
       "</div>"
      ],
      "text/plain": [
       "        group   stem  score     count     ratio\n",
       "0  11th Grade  False    1.0  209441.0  0.166913\n",
       "1  11th Grade  False    2.0  320055.0  0.255067\n",
       "2  11th Grade  False    3.0  315632.0  0.251542\n",
       "3  11th Grade  False    4.0  246087.0  0.196118\n",
       "4  11th Grade  False    5.0  163574.0  0.130360"
      ]
     },
     "execution_count": 7,
     "metadata": {},
     "output_type": "execute_result"
    }
   ],
   "source": [
    "df['ratio'] = df.groupby(['group', 'stem'])['count'].transform(lambda grp: grp / grp.sum())\n",
    "df.head()"
   ]
  },
  {
   "cell_type": "markdown",
   "metadata": {},
   "source": [
    "Now that we have a clean DataFrame, we can move to the next step of the data analysis timeline."
   ]
  },
  {
   "cell_type": "markdown",
   "metadata": {},
   "source": [
    "### Exploratory Analysis and Data Visualization"
   ]
  },
  {
   "cell_type": "markdown",
   "metadata": {},
   "source": [
    "The next step in the data analysis process is to perform some exploratory data analysis (EDA) to discover and unearth relationships or phenomena that are not always immediately obvious. Our dataset provides us with demographic information, so we'll primarily look at the effect that certain demographics have on AP Exam performance. To get an idea of what the distribution might ideally look like, let's plot the distribution of all scores in 2016 with respect to only STEM or Humanities and the scores."
   ]
  },
  {
   "cell_type": "code",
   "execution_count": 11,
   "metadata": {
    "scrolled": false
   },
   "outputs": [
    {
     "data": {
      "image/png": "[encoded data removed]",
      "text/plain": [
       "<matplotlib.figure.Figure at 0x7f4e3828ffd0>"
      ]
     },
     "metadata": {},
     "output_type": "display_data"
    }
   ],
   "source": [
    "fig = plt.figure()\n",
    "ax = fig.add_subplot(111)\n",
    "df[(df.stem == True) & (df.group == '2016')].plot.bar(\n",
    "    x='score', y='ratio', label='STEM', color='c', ax=ax, position=1, width=.25)\n",
    "df[(df.stem == False) & (df.group == '2016')].plot.bar(\n",
    "    x='score', y='ratio', label='Humanities', color='m', ax=ax, position=0, width=.25)\n",
    "ax.set_title('AP Score Distributions 2016')\n",
    "\n",
    "plt.show()"
   ]
  },
  {
   "cell_type": "markdown",
   "metadata": {},
   "source": [
    "#### Gender"
   ]
  },
  {
   "cell_type": "code",
   "execution_count": 148,
   "metadata": {},
   "outputs": [
    {
     "data": {
      "image/png": "[encoded data removed]",
      "text/plain": [
       "<matplotlib.figure.Figure at 0x7f4e30494630>"
      ]
     },
     "metadata": {},
     "output_type": "display_data"
    }
   ],
   "source": [
    "fig, axes = plt.subplots(nrows=1, ncols=2, figsize=(10, 5))\n",
    "\n",
    "for gender in ['Male', 'Female']:\n",
    "    ax = axes[1 if len(gender) > 4 else 0]\n",
    "    temp = df[df['group'] == gender]\n",
    "    \n",
    "    temp[temp.stem][['score', 'ratio']].plot.bar(x='score', color='c', ax=ax, position=1, width=.25)\n",
    "    temp[temp.stem == False][['score', 'ratio']].plot.bar(x='score', color='m', ax=ax, position=0, width=.25)\n",
    "    ax.set_xlabel('AP Score')\n",
    "    ax.set_ylabel('Proportion of Students')\n",
    "    ax.set_title(gender)\n",
    "    ax.legend(['STEM', 'Humanities'])\n",
    "\n",
    "fig.tight_layout()\n",
    "plt.show()"
   ]
  },
  {
   "cell_type": "markdown",
   "metadata": {},
   "source": [
    "#### Race"
   ]
  },
  {
   "cell_type": "markdown",
   "metadata": {},
   "source": [
    "Now, take a look at racial demographics. Below, we generate box plots of each group's AP scores grouped by STEM vs. non STEM. Immediately, there are clear trends noticed for each demographic:\n",
    "\n",
    "| Demographic | Analysis |\n",
    "| ----------- | :-------- |\n",
    "| American Indian/Alaska Native | large left skew |\n",
    "| Asian | large right skew |\n",
    "| Black | large left skew |\n",
    "| Hispanic/Latino | large left skew |\n",
    "| Native Hawaiian/Pacific Islander | large left skew |\n",
    "| Two or More Races | close to normal, some left skew |\n",
    "| White | close to normal, some right skew |"
   ]
  },
  {
   "cell_type": "code",
   "execution_count": 20,
   "metadata": {
    "scrolled": false
   },
   "outputs": [
    {
     "data": {
      "image/png": "[encoded data removed]",
      "text/plain": [
       "<matplotlib.figure.Figure at 0x7f4e3825a9b0>"
      ]
     },
     "metadata": {},
     "output_type": "display_data"
    }
   ],
   "source": [
    "races = ['American Indian/Alaska Native', 'Asian', 'Black',\n",
    "         'Hispanic/Latino','Native Hawaiian/Pacific Islander',\n",
    "         'Two or More Races', 'White']\n",
    "\n",
    "N = len(races)\n",
    "gs = gridspec.GridSpec(4, 2)\n",
    "fig = plt.figure(figsize=(15, 20))\n",
    "\n",
    "for i in range(N):\n",
    "    temp = df[df['group'] == races[i]]\n",
    "    ax = fig.add_subplot(gs[i])\n",
    "    \n",
    "    temp[temp.stem][['score', 'ratio']].plot.bar(x='score', color='c', ax=ax, position=1, width=.25)\n",
    "    temp[temp.stem == False][['score', 'ratio']].plot.bar(x='score', color='m', ax=ax, position=0, width=.25)\n",
    "    ax.set_xlabel('AP Score')\n",
    "    ax.set_ylabel('Proportion of Students')\n",
    "    ax.set_title(races[i])\n",
    "    ax.legend(['STEM', 'Humanities'])\n",
    "\n",
    "fig.tight_layout()\n",
    "plt.show()"
   ]
  },
  {
   "cell_type": "markdown",
   "metadata": {},
   "source": []
  },
  {
   "cell_type": "code",
   "execution_count": 135,
   "metadata": {
    "scrolled": false
   },
   "outputs": [],
   "source": [
    "avgs = pd.DataFrame()\n",
    "for title, group in df.groupby(['group', 'stem']):\n",
    "    x = group['score'] * group['ratio']\n",
    "    avgs = avgs.append({'group': title[0], 'stem': bool(title[1]), 'score': x.sum()}, ignore_index=True)\n",
    "\n",
    "avgs['stem'] = avgs['stem'].apply(lambda x: x == 1)"
   ]
  },
  {
   "cell_type": "code",
   "execution_count": 136,
   "metadata": {},
   "outputs": [
    {
     "data": {
      "text/html": [
       "<div>\n",
       "<table border=\"1\" class=\"dataframe\">\n",
       "  <thead>\n",
       "    <tr style=\"text-align: right;\">\n",
       "      <th></th>\n",
       "      <th>group</th>\n",
       "      <th>coefficient</th>\n",
       "      <th>pval</th>\n",
       "    </tr>\n",
       "  </thead>\n",
       "  <tbody>\n",
       "    <tr>\n",
       "      <th>0</th>\n",
       "      <td>11th Grade</td>\n",
       "      <td>2.877824</td>\n",
       "      <td>2.218045e-15</td>\n",
       "    </tr>\n",
       "    <tr>\n",
       "      <th>3</th>\n",
       "      <td>American Indian/Alaska Native</td>\n",
       "      <td>2.241521</td>\n",
       "      <td>4.041875e-06</td>\n",
       "    </tr>\n",
       "    <tr>\n",
       "      <th>4</th>\n",
       "      <td>Asian</td>\n",
       "      <td>3.250795</td>\n",
       "      <td>5.545172e-04</td>\n",
       "    </tr>\n",
       "    <tr>\n",
       "      <th>5</th>\n",
       "      <td>Black</td>\n",
       "      <td>1.997390</td>\n",
       "      <td>1.278021e-07</td>\n",
       "    </tr>\n",
       "    <tr>\n",
       "      <th>7</th>\n",
       "      <td>Hispanic/Latino</td>\n",
       "      <td>2.331935</td>\n",
       "      <td>1.862938e-05</td>\n",
       "    </tr>\n",
       "    <tr>\n",
       "      <th>9</th>\n",
       "      <td>Native Hawaiian/Pacific Islander</td>\n",
       "      <td>2.412156</td>\n",
       "      <td>8.297738e-05</td>\n",
       "    </tr>\n",
       "  </tbody>\n",
       "</table>\n",
       "</div>"
      ],
      "text/plain": [
       "                              group  coefficient          pval\n",
       "0                        11th Grade     2.877824  2.218045e-15\n",
       "3     American Indian/Alaska Native     2.241521  4.041875e-06\n",
       "4                             Asian     3.250795  5.545172e-04\n",
       "5                             Black     1.997390  1.278021e-07\n",
       "7                   Hispanic/Latino     2.331935  1.862938e-05\n",
       "9  Native Hawaiian/Pacific Islander     2.412156  8.297738e-05"
      ]
     },
     "execution_count": 136,
     "metadata": {},
     "output_type": "execute_result"
    }
   ],
   "source": [
    "res = sm.ols(formula='score ~ group', data=avgs).fit()\n",
    "out = pd.DataFrame()\n",
    "out['coefficient'], out['pval'] = res.params, res.pvalues\n",
    "out.index = avgs.group.unique()\n",
    "out.iloc[1:] = out.iloc[1:] + out.iloc[0]\n",
    "out.reset_index(inplace=True)\n",
    "out.columns = ['group', 'coefficient', 'pval']\n",
    "out[out.pval < .05]"
   ]
  },
  {
   "cell_type": "code",
   "execution_count": null,
   "metadata": {
    "collapsed": true
   },
   "outputs": [],
   "source": []
  }
 ],
 "metadata": {
  "kernelspec": {
   "display_name": "Python 3",
   "language": "python",
   "name": "python3"
  },
  "language_info": {
   "codemirror_mode": {
    "name": "ipython",
    "version": 3
   },
   "file_extension": ".py",
   "mimetype": "text/x-python",
   "name": "python",
   "nbconvert_exporter": "python",
   "pygments_lexer": "ipython3",
   "version": "3.6.2"
  }
 },
 "nbformat": 4,
 "nbformat_minor": 2
}
